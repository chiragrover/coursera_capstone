{
    "nbformat_minor": 2, 
    "cells": [
        {
            "source": "# Capstone project on  Jupyter Notebook\n## Small Business Investment in London", 
            "cell_type": "markdown", 
            "metadata": {}
        }, 
        {
            "source": "***\n\nLondon's finance industry is based in the City of London and Canary Wharf, the two major business districts in London. London is one of the preeminent financial centers of the world as the most important location for international finance.  We are going to discuss what are the best venues which we can  invest in London, we present an analysis made in phyton and we show step by step how we can determine the top 10 venues for the best 3 Boroughs based on the demographic data, unemployment rate statistics  which it is suggested to invest in London .\n\nThe content of this work has five sections:\n\n1. Getting the  the data\n2. Data wrangling\n3. Methodology\n4. Data analysis\n5. Results and Discussion\n\n\n\n![](http://www.all-free-photos.com/images/londres/PI67079-hr.jpg)\n***\n\n> London is one of the most attractive cities to do business in the world. It is the capital of both England and U.K. In this notebook we shows how we can study  data from UK  to understand how and where to invest the money with an small business.", 
            "cell_type": "markdown", 
            "metadata": {}
        }, 
        {
            "source": "### 1. Getting the  the data\n\nFirst at all we are going to use iPython based in phyton 3.6 to do the analysis.\n\n\n#### 1.1 Setup\n\nIn the setup part we simply need load all the  libraries needed to do this study that is given by:\n\n\n", 
            "cell_type": "markdown", 
            "metadata": {}
        }, 
        {
            "execution_count": 1, 
            "cell_type": "code", 
            "metadata": {}, 
            "outputs": [
                {
                    "output_type": "stream", 
                    "name": "stdout", 
                    "text": "numpy, pandas, ..., imported...\ngeopy installed...\nNominatim imported...\nrequests imported...\njson_normalize imported...\nmatplotlib imported...\nKmeans imported...\nfolium installed...\nfolium imported...\n...Done\n"
                }
            ], 
            "source": "# library for BeautifulSoup, for web scrapping\nfrom bs4 import BeautifulSoup\n# library to handle data in a vectorized manner\nimport numpy as np\n# library for data analsysis\nimport pandas as pd\npd.set_option('display.max_columns', None)\npd.set_option('display.max_rows', None)\n# library to handle JSON files\nimport json\nprint('numpy, pandas, ..., imported...')\n!pip -q install geopy\nprint('geopy installed...')\n# convert an address into latitude and longitude values\nfrom geopy.geocoders import Nominatim\nprint('Nominatim imported...')\n# library to handle requests\nimport requests\nprint('requests imported...')\n# tranform JSON file into a pandas dataframe\nfrom pandas.io.json import json_normalize\nprint('json_normalize imported...')\n# Matplotlib and associated plotting modules\nimport matplotlib.cm as cm\nimport matplotlib.colors as colors\nprint('matplotlib imported...')\n# import k-means from clustering stage\nfrom sklearn.cluster import KMeans\nprint('Kmeans imported...')\n# install the Geocoder\n!pip -q install geocoder\nimport geocoder\n# import time\nimport time\n!pip -q install folium\nprint('folium installed...')\nimport folium # map rendering library\nprint('folium imported...')\nfrom pandas import ExcelWriter\nfrom pandas import ExcelFile\nprint('...Done')\n\n"
        }, 
        {
            "execution_count": 3, 
            "cell_type": "code", 
            "metadata": {}, 
            "outputs": [], 
            "source": "import warnings\nwarnings.filterwarnings('ignore')"
        }, 
        {
            "source": "#### 1.2 Selecting the data", 
            "cell_type": "markdown", 
            "metadata": {}
        }, 
        {
            "source": "In ordering to determine the area of London where we have to do the investment we require take some data from \nthe London's Poverty Profile 2017 and Annual Population Survey via Nomis, ONS.\ngiven at the Trust for London [[ 1 ](https://www.trustforlondon.org.uk/data/)], and  New Policy Institute [[ 2 ](https://www.nomisweb.co.uk/query/select/getdatasetbytheme.asp?theme=25)].\n\n", 
            "cell_type": "markdown", 
            "metadata": {}
        }, 
        {
            "source": "The unemployment ratio is the proportion of the working-age population that is unemployed, and in  the unemployment ratio by borough in London is showed in the following figure, that is obtained by the following commands: ", 
            "cell_type": "markdown", 
            "metadata": {}
        }, 
        {
            "execution_count": 5, 
            "cell_type": "code", 
            "metadata": {}, 
            "outputs": [
                {
                    "execution_count": 5, 
                    "metadata": {}, 
                    "data": {
                        "text/plain": "<matplotlib.axes._subplots.AxesSubplot at 0x2203e5ee2e8>"
                    }, 
                    "output_type": "execute_result"
                }, 
                {
                    "output_type": "display_data", 
                    "data": {
                        "image/png": "[encoded data removed]", 
                        "text/plain": "<Figure size 432x288 with 1 Axes>"
                    }, 
                    "metadata": {
                        "needs_background": "light"
                    }
                }
            ], 
            "source": "unemployment_ratio_df = pd.read_csv(\"unemployment_ratio.csv\") \nunemployment_ratio_df2=unemployment_ratio_df.dropna()\nunemployment_ratio_df2.rename({'Unnamed: 1': '2001', 'Unnamed: 2': '2011'}, axis=1, inplace=True)\nunemployment_ratio_df2.reset_index(drop=True, inplace=True)\nunemployment_ratio_df2['2011'] = unemployment_ratio_df2['2011'].str[:-1].astype(float)\nunemployment_ratio_df2['2001'] = unemployment_ratio_df2['2001'].str[:-1].astype(float)\nunemployment_ratio_df3=unemployment_ratio_df2.sort_values(by='2011', ascending=True)\nunemployment_ratio_df3.plot(x=\"Unemployment ratio by borough\", y=[\"2001\", \"2011\"], kind=\"bar\")"
        }, 
        {
            "source": "### This graph shows that the ratio has come down significantly in almost all London boroughs in a relatively short timescale.", 
            "cell_type": "markdown", 
            "metadata": {}
        }, 
        {
            "source": "Considering the lowest unemployment ratio by borough we have the following table:", 
            "cell_type": "markdown", 
            "metadata": {}
        }, 
        {
            "execution_count": 7, 
            "cell_type": "code", 
            "metadata": {}, 
            "outputs": [
                {
                    "execution_count": 7, 
                    "metadata": {}, 
                    "data": {
                        "text/html": "<div>\n<style scoped>\n    .dataframe tbody tr th:only-of-type {\n        vertical-align: middle;\n    }\n\n    .dataframe tbody tr th {\n        vertical-align: top;\n    }\n\n    .dataframe thead th {\n        text-align: right;\n    }\n</style>\n<table border=\"1\" class=\"dataframe\">\n  <thead>\n    <tr style=\"text-align: right;\">\n      <th></th>\n      <th>Unemployment ratio by borough</th>\n      <th>2001</th>\n      <th>2011</th>\n    </tr>\n  </thead>\n  <tbody>\n    <tr>\n      <th>31</th>\n      <td>Hammersmith and Fulham</td>\n      <td>5.7</td>\n      <td>3.5</td>\n    </tr>\n    <tr>\n      <th>30</th>\n      <td>Wandsworth</td>\n      <td>6.3</td>\n      <td>3.5</td>\n    </tr>\n    <tr>\n      <th>29</th>\n      <td>Kingston upon Thames</td>\n      <td>5.5</td>\n      <td>3.7</td>\n    </tr>\n    <tr>\n      <th>28</th>\n      <td>Camden</td>\n      <td>5.4</td>\n      <td>3.9</td>\n    </tr>\n    <tr>\n      <th>27</th>\n      <td>Sutton</td>\n      <td>5.8</td>\n      <td>3.9</td>\n    </tr>\n  </tbody>\n</table>\n</div>", 
                        "text/plain": "   Unemployment ratio by borough  2001  2011\n31        Hammersmith and Fulham   5.7   3.5\n30                    Wandsworth   6.3   3.5\n29          Kingston upon Thames   5.5   3.7\n28                        Camden   5.4   3.9\n27                        Sutton   5.8   3.9"
                    }, 
                    "output_type": "execute_result"
                }
            ], 
            "source": "unemployment_ratio_df3.head()"
        }, 
        {
            "source": "The top 3 boroughs with lowest unemployment ratio in 2011 are :\n\n1. Hammersmith and Fulham\n2. Wandsworth\n3. Kingston upon Thames\n\nNow if we compare with the change of Change in unemployment ratio 2011-13 to 2014-1", 
            "cell_type": "markdown", 
            "metadata": {}
        }, 
        {
            "execution_count": 8, 
            "cell_type": "code", 
            "metadata": {}, 
            "outputs": [
                {
                    "execution_count": 8, 
                    "metadata": {}, 
                    "data": {
                        "text/plain": "<matplotlib.axes._subplots.AxesSubplot at 0x2203eef6cc0>"
                    }, 
                    "output_type": "execute_result"
                }, 
                {
                    "output_type": "display_data", 
                    "data": {
                        "image/png": "[encoded data removed]", 
                        "text/plain": "<Figure size 432x288 with 1 Axes>"
                    }, 
                    "metadata": {
                        "needs_background": "light"
                    }
                }
            ], 
            "source": "change_unemployment_ratio_df = pd.read_csv(\"change_unemployment_ratio.csv\") \nchange_unemployment_ratio_df=change_unemployment_ratio_df.dropna()\nchange_unemployment_ratio_df.head()\nchange_unemployment_ratio_df.rename({'Change in unemployment ratio 2011-13 to 2014-16': 'Borough', 'Unnamed: 1': 'Percentual'}, axis=1, inplace=True)\nchange_unemployment_ratio_df['Percentual'] = change_unemployment_ratio_df['Percentual'].str[:-1].astype(float)\nchange_unemployment_ratio_df2=change_unemployment_ratio_df.sort_values(by='Percentual', ascending=True)\nchange_unemployment_ratio_df2.plot(kind='bar',x='Borough',y='Percentual')"
        }, 
        {
            "execution_count": 9, 
            "cell_type": "code", 
            "metadata": {}, 
            "outputs": [
                {
                    "execution_count": 9, 
                    "metadata": {}, 
                    "data": {
                        "text/html": "<div>\n<style scoped>\n    .dataframe tbody tr th:only-of-type {\n        vertical-align: middle;\n    }\n\n    .dataframe tbody tr th {\n        vertical-align: top;\n    }\n\n    .dataframe thead th {\n        text-align: right;\n    }\n</style>\n<table border=\"1\" class=\"dataframe\">\n  <thead>\n    <tr style=\"text-align: right;\">\n      <th></th>\n      <th>Borough</th>\n      <th>Percentual</th>\n    </tr>\n  </thead>\n  <tbody>\n    <tr>\n      <th>25</th>\n      <td>Newham</td>\n      <td>-3.825</td>\n    </tr>\n    <tr>\n      <th>8</th>\n      <td>Croydon</td>\n      <td>-3.699</td>\n    </tr>\n    <tr>\n      <th>9</th>\n      <td>Ealing</td>\n      <td>-3.664</td>\n    </tr>\n    <tr>\n      <th>10</th>\n      <td>Enfield</td>\n      <td>-3.528</td>\n    </tr>\n    <tr>\n      <th>22</th>\n      <td>Lambeth</td>\n      <td>-3.031</td>\n    </tr>\n    <tr>\n      <th>2</th>\n      <td>Barking and Dagenham</td>\n      <td>-2.945</td>\n    </tr>\n    <tr>\n      <th>23</th>\n      <td>Lewisham</td>\n      <td>-2.804</td>\n    </tr>\n    <tr>\n      <th>32</th>\n      <td>Wandsworth</td>\n      <td>-2.787</td>\n    </tr>\n    <tr>\n      <th>17</th>\n      <td>Hillingdon</td>\n      <td>-2.741</td>\n    </tr>\n    <tr>\n      <th>5</th>\n      <td>Brent</td>\n      <td>-2.724</td>\n    </tr>\n  </tbody>\n</table>\n</div>", 
                        "text/plain": "                 Borough  Percentual\n25                Newham      -3.825\n8                Croydon      -3.699\n9                 Ealing      -3.664\n10               Enfield      -3.528\n22               Lambeth      -3.031\n2   Barking and Dagenham      -2.945\n23              Lewisham      -2.804\n32            Wandsworth      -2.787\n17            Hillingdon      -2.741\n5                  Brent      -2.724"
                    }, 
                    "output_type": "execute_result"
                }
            ], 
            "source": "change_unemployment_ratio_df2.head(10)"
        }, 
        {
            "source": "And  the highest change unemployment ratio are for the Boroughs:\n\n1. Newham\n2. Croydon\n3. Ealing\n\nBut this fact does not guarantee that will be a good place to invest. So in ordering to be sure about which Borough should be the best to invest,we consider the average percentual, this can be a good indication to determine which Borough we should choose.\n", 
            "cell_type": "markdown", 
            "metadata": {}
        }, 
        {
            "execution_count": 233, 
            "cell_type": "code", 
            "metadata": {}, 
            "outputs": [
                {
                    "execution_count": 233, 
                    "metadata": {}, 
                    "data": {
                        "text/plain": "-1.9897500000000001"
                    }, 
                    "output_type": "execute_result"
                }
            ], 
            "source": "change_unemployment_ratio_df2[\"Percentual\"].mean()"
        }, 
        {
            "source": "therefore arround -1.98%  the Borough shold be stable. \n1. Hammersmith and Fulham has\t-2.200%\n2. Haringey\t-2.134%\n3. Waltham Forest\t-2.036%\n\nWe have those three candidates, but due to Hammersmith and Fulham has the lowest Unemployment , a good candidate to invest  is __Hammersmith and Fulham__ which is located in the South West and North West of London.", 
            "cell_type": "markdown", 
            "metadata": {}
        }, 
        {
            "source": "Thus we are going to explore what are the possible small bussiness what have a trend over the South West of London.\n\n\n\n![](https://occupa.co.uk/wp-content/uploads/2018/09/osl-area-city.jpg)\n***\n\n> One of the strongest regions and cities on the planet is London. It\u2019s highly attractive, and it offers one of the best prospects for business development and innovative thinking. London is the showcase for our work throughout Europe and is paramount in our global strategy.", 
            "cell_type": "markdown", 
            "metadata": {}
        }, 
        {
            "source": "### 2. Data wrangling", 
            "cell_type": "markdown", 
            "metadata": {}
        }, 
        {
            "source": "Data wrangling sometimes referred to as data munging, is the process of transforming and mapping data from one \"raw\" data form into another format with the intent of making it more appropriate and valuable for a variety of downstream purposes such as analytics.\n\nIn this section we are going to extract more data from different sources of London and transform them into dataframes in ordering to perfom the analytics.", 
            "cell_type": "markdown", 
            "metadata": {}
        }, 
        {
            "source": "#### 2.1 Exploration of the city of London", 
            "cell_type": "markdown", 
            "metadata": {}
        }, 
        {
            "source": "In order to transform data from websites into data which we can process we requiere use a great tool called  BeautifulSoup, we load the libraries and we get the List of areas of London.\n\n\n\n\n\n", 
            "cell_type": "markdown", 
            "metadata": {}
        }, 
        {
            "execution_count": 10, 
            "cell_type": "code", 
            "metadata": {}, 
            "outputs": [], 
            "source": "# library for BeautifulSoup\nfrom bs4 import BeautifulSoup\nwikipedia_link = 'https://en.wikipedia.org/wiki/List_of_areas_of_London'\nwikipedia_page = requests.get(wikipedia_link)"
        }, 
        {
            "execution_count": 11, 
            "cell_type": "code", 
            "metadata": {}, 
            "outputs": [], 
            "source": "# Cleans html file\nsoup = BeautifulSoup(wikipedia_page.content, 'html.parser')\n# This extracts the \"tbody\" within the table where class is \"wikitable sortable\"\ntable = soup.find('table', {'class':'wikitable sortable'}).tbody\n# Extracts all \"tr\" (table rows) within the table above\nrows = table.find_all('tr')\n# Extracts the column headers, removes and replaces possible '\\n' with space for the \"th\" tag\ncolumns = [i.text.replace('\\n', '')\n           for i in rows[0].find_all('th')]\n# Converts columns to pd dataframe\ndf = pd.DataFrame(columns = columns)\n'''\nExtracts every row with corresponding columns then appends the values to the create pd dataframe \"df\". The first row (row[0]) is skipped because it is already the header\n'''\nfor i in range(1, len(rows)):\n    tds = rows[i].find_all('td')    \n    if len(tds) == 7:\n        values = [tds[0].text, tds[1].text, tds[2].text.replace('\\n', ''.replace('\\xa0','')), tds[3].text, tds[4].text.replace('\\n', ''.replace('\\xa0','')), tds[5].text.replace('\\n', ''.replace('\\xa0','')), tds[6].text.replace('\\n', ''.replace('\\xa0',''))]\n    else:\n        values = [td.text.replace('\\n', '').replace('\\xa0','') for td in tds]\n        \n        df = df.append(pd.Series(values, index = columns), ignore_index = True)\n        df"
        }, 
        {
            "execution_count": 12, 
            "cell_type": "code", 
            "metadata": {}, 
            "outputs": [
                {
                    "execution_count": 12, 
                    "metadata": {}, 
                    "data": {
                        "text/html": "<div>\n<style scoped>\n    .dataframe tbody tr th:only-of-type {\n        vertical-align: middle;\n    }\n\n    .dataframe tbody tr th {\n        vertical-align: top;\n    }\n\n    .dataframe thead th {\n        text-align: right;\n    }\n</style>\n<table border=\"1\" class=\"dataframe\">\n  <thead>\n    <tr style=\"text-align: right;\">\n      <th></th>\n      <th>Location</th>\n      <th>London\u00a0borough</th>\n      <th>Post town</th>\n      <th>Postcode\u00a0district</th>\n      <th>Dial\u00a0code</th>\n      <th>OS grid ref</th>\n    </tr>\n  </thead>\n  <tbody>\n    <tr>\n      <th>0</th>\n      <td>Abbey Wood</td>\n      <td>Bexley,  Greenwich [2]</td>\n      <td>LONDON</td>\n      <td>SE2</td>\n      <td>020</td>\n      <td>TQ465785</td>\n    </tr>\n    <tr>\n      <th>1</th>\n      <td>Acton</td>\n      <td>Ealing, Hammersmith and Fulham[3]</td>\n      <td>LONDON</td>\n      <td>W3, W4</td>\n      <td>020</td>\n      <td>TQ205805</td>\n    </tr>\n    <tr>\n      <th>2</th>\n      <td>Addington</td>\n      <td>Croydon[3]</td>\n      <td>CROYDON</td>\n      <td>CR0</td>\n      <td>020</td>\n      <td>TQ375645</td>\n    </tr>\n    <tr>\n      <th>3</th>\n      <td>Addiscombe</td>\n      <td>Croydon[3]</td>\n      <td>CROYDON</td>\n      <td>CR0</td>\n      <td>020</td>\n      <td>TQ345665</td>\n    </tr>\n    <tr>\n      <th>4</th>\n      <td>Albany Park</td>\n      <td>Bexley</td>\n      <td>BEXLEY, SIDCUP</td>\n      <td>DA5, DA14</td>\n      <td>020</td>\n      <td>TQ478728</td>\n    </tr>\n  </tbody>\n</table>\n</div>", 
                        "text/plain": "      Location                     London\u00a0borough       Post town  \\\n0   Abbey Wood             Bexley,  Greenwich [2]          LONDON   \n1        Acton  Ealing, Hammersmith and Fulham[3]          LONDON   \n2    Addington                         Croydon[3]         CROYDON   \n3   Addiscombe                         Croydon[3]         CROYDON   \n4  Albany Park                             Bexley  BEXLEY, SIDCUP   \n\n  Postcode\u00a0district Dial\u00a0code OS grid ref  \n0               SE2       020    TQ465785  \n1            W3, W4       020    TQ205805  \n2               CR0       020    TQ375645  \n3               CR0       020    TQ345665  \n4         DA5, DA14       020    TQ478728  "
                    }, 
                    "output_type": "execute_result"
                }
            ], 
            "source": "df.head(5)"
        }, 
        {
            "execution_count": 13, 
            "cell_type": "code", 
            "metadata": {}, 
            "outputs": [], 
            "source": "df.columns = ['Location', 'Borough', 'Post-town', 'Postcode',\n       'Dial-code', 'OSgridref']"
        }, 
        {
            "execution_count": 14, 
            "cell_type": "code", 
            "metadata": {}, 
            "outputs": [
                {
                    "execution_count": 14, 
                    "metadata": {}, 
                    "data": {
                        "text/plain": "Index(['Location', 'Borough', 'Post-town', 'Postcode', 'Dial-code',\n       'OSgridref'],\n      dtype='object')"
                    }, 
                    "output_type": "execute_result"
                }
            ], 
            "source": "df.columns"
        }, 
        {
            "execution_count": 15, 
            "cell_type": "code", 
            "metadata": {}, 
            "outputs": [
                {
                    "execution_count": 15, 
                    "metadata": {}, 
                    "data": {
                        "text/html": "<div>\n<style scoped>\n    .dataframe tbody tr th:only-of-type {\n        vertical-align: middle;\n    }\n\n    .dataframe tbody tr th {\n        vertical-align: top;\n    }\n\n    .dataframe thead th {\n        text-align: right;\n    }\n</style>\n<table border=\"1\" class=\"dataframe\">\n  <thead>\n    <tr style=\"text-align: right;\">\n      <th></th>\n      <th>Location</th>\n      <th>Borough</th>\n      <th>Post-town</th>\n      <th>Postcode</th>\n      <th>Dial-code</th>\n      <th>OSgridref</th>\n    </tr>\n  </thead>\n  <tbody>\n    <tr>\n      <th>0</th>\n      <td>Abbey Wood</td>\n      <td>Bexley,  Greenwich [2]</td>\n      <td>LONDON</td>\n      <td>SE2</td>\n      <td>020</td>\n      <td>TQ465785</td>\n    </tr>\n    <tr>\n      <th>1</th>\n      <td>Acton</td>\n      <td>Ealing, Hammersmith and Fulham[3]</td>\n      <td>LONDON</td>\n      <td>W3, W4</td>\n      <td>020</td>\n      <td>TQ205805</td>\n    </tr>\n    <tr>\n      <th>2</th>\n      <td>Addington</td>\n      <td>Croydon[3]</td>\n      <td>CROYDON</td>\n      <td>CR0</td>\n      <td>020</td>\n      <td>TQ375645</td>\n    </tr>\n    <tr>\n      <th>3</th>\n      <td>Addiscombe</td>\n      <td>Croydon[3]</td>\n      <td>CROYDON</td>\n      <td>CR0</td>\n      <td>020</td>\n      <td>TQ345665</td>\n    </tr>\n    <tr>\n      <th>4</th>\n      <td>Albany Park</td>\n      <td>Bexley</td>\n      <td>BEXLEY, SIDCUP</td>\n      <td>DA5, DA14</td>\n      <td>020</td>\n      <td>TQ478728</td>\n    </tr>\n  </tbody>\n</table>\n</div>", 
                        "text/plain": "      Location                            Borough       Post-town   Postcode  \\\n0   Abbey Wood             Bexley,  Greenwich [2]          LONDON        SE2   \n1        Acton  Ealing, Hammersmith and Fulham[3]          LONDON     W3, W4   \n2    Addington                         Croydon[3]         CROYDON        CR0   \n3   Addiscombe                         Croydon[3]         CROYDON        CR0   \n4  Albany Park                             Bexley  BEXLEY, SIDCUP  DA5, DA14   \n\n  Dial-code OSgridref  \n0       020  TQ465785  \n1       020  TQ205805  \n2       020  TQ375645  \n3       020  TQ345665  \n4       020  TQ478728  "
                    }, 
                    "output_type": "execute_result"
                }
            ], 
            "source": "df.head()"
        }, 
        {
            "source": "We have to perfomr some cleaning with the following command", 
            "cell_type": "markdown", 
            "metadata": {}
        }, 
        {
            "execution_count": 16, 
            "cell_type": "code", 
            "metadata": {}, 
            "outputs": [], 
            "source": "# Remove Borough reference numbers with []\ndf['Borough'] = df['Borough'].map(lambda x: x.rstrip(']').rstrip('0123456789').rstrip('['))"
        }, 
        {
            "execution_count": 17, 
            "cell_type": "code", 
            "metadata": {}, 
            "outputs": [
                {
                    "execution_count": 17, 
                    "metadata": {}, 
                    "data": {
                        "text/html": "<div>\n<style scoped>\n    .dataframe tbody tr th:only-of-type {\n        vertical-align: middle;\n    }\n\n    .dataframe tbody tr th {\n        vertical-align: top;\n    }\n\n    .dataframe thead th {\n        text-align: right;\n    }\n</style>\n<table border=\"1\" class=\"dataframe\">\n  <thead>\n    <tr style=\"text-align: right;\">\n      <th></th>\n      <th>Location</th>\n      <th>Borough</th>\n      <th>Post-town</th>\n      <th>Postcode</th>\n      <th>Dial-code</th>\n      <th>OSgridref</th>\n    </tr>\n  </thead>\n  <tbody>\n    <tr>\n      <th>0</th>\n      <td>Abbey Wood</td>\n      <td>Bexley,  Greenwich</td>\n      <td>LONDON</td>\n      <td>SE2</td>\n      <td>020</td>\n      <td>TQ465785</td>\n    </tr>\n    <tr>\n      <th>1</th>\n      <td>Acton</td>\n      <td>Ealing, Hammersmith and Fulham</td>\n      <td>LONDON</td>\n      <td>W3, W4</td>\n      <td>020</td>\n      <td>TQ205805</td>\n    </tr>\n    <tr>\n      <th>2</th>\n      <td>Addington</td>\n      <td>Croydon</td>\n      <td>CROYDON</td>\n      <td>CR0</td>\n      <td>020</td>\n      <td>TQ375645</td>\n    </tr>\n    <tr>\n      <th>3</th>\n      <td>Addiscombe</td>\n      <td>Croydon</td>\n      <td>CROYDON</td>\n      <td>CR0</td>\n      <td>020</td>\n      <td>TQ345665</td>\n    </tr>\n    <tr>\n      <th>4</th>\n      <td>Albany Park</td>\n      <td>Bexley</td>\n      <td>BEXLEY, SIDCUP</td>\n      <td>DA5, DA14</td>\n      <td>020</td>\n      <td>TQ478728</td>\n    </tr>\n  </tbody>\n</table>\n</div>", 
                        "text/plain": "      Location                         Borough       Post-town   Postcode  \\\n0   Abbey Wood             Bexley,  Greenwich           LONDON        SE2   \n1        Acton  Ealing, Hammersmith and Fulham          LONDON     W3, W4   \n2    Addington                         Croydon         CROYDON        CR0   \n3   Addiscombe                         Croydon         CROYDON        CR0   \n4  Albany Park                          Bexley  BEXLEY, SIDCUP  DA5, DA14   \n\n  Dial-code OSgridref  \n0       020  TQ465785  \n1       020  TQ205805  \n2       020  TQ375645  \n3       020  TQ345665  \n4       020  TQ478728  "
                    }, 
                    "output_type": "execute_result"
                }
            ], 
            "source": "df.head()"
        }, 
        {
            "source": "We are going now to do some assumptions to reduce the amount of data that we want to process.", 
            "cell_type": "markdown", 
            "metadata": {}
        }, 
        {
            "source": "The postcodes are spread to multi-rows and assigned the same values from the other columns.", 
            "cell_type": "markdown", 
            "metadata": {}
        }, 
        {
            "execution_count": 18, 
            "cell_type": "code", 
            "metadata": {}, 
            "outputs": [], 
            "source": "df0 = df.drop('Postcode', axis=1).join(df['Postcode'].str.split(',', expand=True).stack().reset_index(level=1, drop=True).rename('Postcode'))"
        }, 
        {
            "execution_count": 19, 
            "cell_type": "code", 
            "metadata": {}, 
            "outputs": [
                {
                    "execution_count": 19, 
                    "metadata": {}, 
                    "data": {
                        "text/html": "<div>\n<style scoped>\n    .dataframe tbody tr th:only-of-type {\n        vertical-align: middle;\n    }\n\n    .dataframe tbody tr th {\n        vertical-align: top;\n    }\n\n    .dataframe thead th {\n        text-align: right;\n    }\n</style>\n<table border=\"1\" class=\"dataframe\">\n  <thead>\n    <tr style=\"text-align: right;\">\n      <th></th>\n      <th>Location</th>\n      <th>Borough</th>\n      <th>Post-town</th>\n      <th>Dial-code</th>\n      <th>OSgridref</th>\n      <th>Postcode</th>\n    </tr>\n  </thead>\n  <tbody>\n    <tr>\n      <th>0</th>\n      <td>Abbey Wood</td>\n      <td>Bexley,  Greenwich</td>\n      <td>LONDON</td>\n      <td>020</td>\n      <td>TQ465785</td>\n      <td>SE2</td>\n    </tr>\n    <tr>\n      <th>1</th>\n      <td>Acton</td>\n      <td>Ealing, Hammersmith and Fulham</td>\n      <td>LONDON</td>\n      <td>020</td>\n      <td>TQ205805</td>\n      <td>W3</td>\n    </tr>\n    <tr>\n      <th>1</th>\n      <td>Acton</td>\n      <td>Ealing, Hammersmith and Fulham</td>\n      <td>LONDON</td>\n      <td>020</td>\n      <td>TQ205805</td>\n      <td>W4</td>\n    </tr>\n    <tr>\n      <th>2</th>\n      <td>Addington</td>\n      <td>Croydon</td>\n      <td>CROYDON</td>\n      <td>020</td>\n      <td>TQ375645</td>\n      <td>CR0</td>\n    </tr>\n    <tr>\n      <th>3</th>\n      <td>Addiscombe</td>\n      <td>Croydon</td>\n      <td>CROYDON</td>\n      <td>020</td>\n      <td>TQ345665</td>\n      <td>CR0</td>\n    </tr>\n  </tbody>\n</table>\n</div>", 
                        "text/plain": "     Location                         Borough Post-town Dial-code OSgridref  \\\n0  Abbey Wood             Bexley,  Greenwich     LONDON       020  TQ465785   \n1       Acton  Ealing, Hammersmith and Fulham    LONDON       020  TQ205805   \n1       Acton  Ealing, Hammersmith and Fulham    LONDON       020  TQ205805   \n2   Addington                         Croydon   CROYDON       020  TQ375645   \n3  Addiscombe                         Croydon   CROYDON       020  TQ345665   \n\n  Postcode  \n0      SE2  \n1       W3  \n1       W4  \n2      CR0  \n3      CR0  "
                    }, 
                    "output_type": "execute_result"
                }
            ], 
            "source": "df0.head()"
        }, 
        {
            "source": "From the data, only the \u2018Location\u2019, \u2018Borough\u2019, \u2018Postcode\u2019, \u2018Post-town\u2019 will be used.", 
            "cell_type": "markdown", 
            "metadata": {}
        }, 
        {
            "execution_count": 20, 
            "cell_type": "code", 
            "metadata": {}, 
            "outputs": [], 
            "source": "df1 = df0[['Location', 'Borough', 'Postcode', 'Post-town']].reset_index(drop=True)"
        }, 
        {
            "execution_count": 21, 
            "cell_type": "code", 
            "metadata": {}, 
            "outputs": [
                {
                    "execution_count": 21, 
                    "metadata": {}, 
                    "data": {
                        "text/html": "<div>\n<style scoped>\n    .dataframe tbody tr th:only-of-type {\n        vertical-align: middle;\n    }\n\n    .dataframe tbody tr th {\n        vertical-align: top;\n    }\n\n    .dataframe thead th {\n        text-align: right;\n    }\n</style>\n<table border=\"1\" class=\"dataframe\">\n  <thead>\n    <tr style=\"text-align: right;\">\n      <th></th>\n      <th>Location</th>\n      <th>Borough</th>\n      <th>Postcode</th>\n      <th>Post-town</th>\n    </tr>\n  </thead>\n  <tbody>\n    <tr>\n      <th>0</th>\n      <td>Abbey Wood</td>\n      <td>Bexley,  Greenwich</td>\n      <td>SE2</td>\n      <td>LONDON</td>\n    </tr>\n    <tr>\n      <th>1</th>\n      <td>Acton</td>\n      <td>Ealing, Hammersmith and Fulham</td>\n      <td>W3</td>\n      <td>LONDON</td>\n    </tr>\n    <tr>\n      <th>2</th>\n      <td>Acton</td>\n      <td>Ealing, Hammersmith and Fulham</td>\n      <td>W4</td>\n      <td>LONDON</td>\n    </tr>\n    <tr>\n      <th>3</th>\n      <td>Addington</td>\n      <td>Croydon</td>\n      <td>CR0</td>\n      <td>CROYDON</td>\n    </tr>\n    <tr>\n      <th>4</th>\n      <td>Addiscombe</td>\n      <td>Croydon</td>\n      <td>CR0</td>\n      <td>CROYDON</td>\n    </tr>\n  </tbody>\n</table>\n</div>", 
                        "text/plain": "     Location                         Borough Postcode Post-town\n0  Abbey Wood             Bexley,  Greenwich       SE2    LONDON\n1       Acton  Ealing, Hammersmith and Fulham       W3    LONDON\n2       Acton  Ealing, Hammersmith and Fulham       W4    LONDON\n3   Addington                         Croydon      CR0   CROYDON\n4  Addiscombe                         Croydon      CR0   CROYDON"
                    }, 
                    "output_type": "execute_result"
                }
            ], 
            "source": "df1.head()"
        }, 
        {
            "source": "Now, only the Boroughs with London Post-town will be used for our search of location.\nTherefore, all the non-post-town are dropped.", 
            "cell_type": "markdown", 
            "metadata": {}
        }, 
        {
            "execution_count": 22, 
            "cell_type": "code", 
            "metadata": {}, 
            "outputs": [], 
            "source": "df2 = df1 # assigns df1 to df2\ndf21 = df2[df2['Post-town'].str.contains('LONDON')]\n"
        }, 
        {
            "execution_count": 26, 
            "cell_type": "code", 
            "metadata": {}, 
            "outputs": [
                {
                    "execution_count": 26, 
                    "metadata": {}, 
                    "data": {
                        "text/plain": "(380, 4)"
                    }, 
                    "output_type": "execute_result"
                }
            ], 
            "source": "df21.shape"
        }, 
        {
            "execution_count": 27, 
            "cell_type": "code", 
            "metadata": {}, 
            "outputs": [], 
            "source": "df3 = df21[['Location', 'Borough', 'Postcode']].reset_index(drop=True)"
        }, 
        {
            "execution_count": 28, 
            "cell_type": "code", 
            "metadata": {}, 
            "outputs": [
                {
                    "execution_count": 28, 
                    "metadata": {}, 
                    "data": {
                        "text/html": "<div>\n<style scoped>\n    .dataframe tbody tr th:only-of-type {\n        vertical-align: middle;\n    }\n\n    .dataframe tbody tr th {\n        vertical-align: top;\n    }\n\n    .dataframe thead th {\n        text-align: right;\n    }\n</style>\n<table border=\"1\" class=\"dataframe\">\n  <thead>\n    <tr style=\"text-align: right;\">\n      <th></th>\n      <th>Location</th>\n      <th>Borough</th>\n      <th>Postcode</th>\n    </tr>\n  </thead>\n  <tbody>\n    <tr>\n      <th>0</th>\n      <td>Abbey Wood</td>\n      <td>Bexley,  Greenwich</td>\n      <td>SE2</td>\n    </tr>\n    <tr>\n      <th>1</th>\n      <td>Acton</td>\n      <td>Ealing, Hammersmith and Fulham</td>\n      <td>W3</td>\n    </tr>\n    <tr>\n      <th>2</th>\n      <td>Acton</td>\n      <td>Ealing, Hammersmith and Fulham</td>\n      <td>W4</td>\n    </tr>\n    <tr>\n      <th>3</th>\n      <td>Aldgate</td>\n      <td>City</td>\n      <td>EC3</td>\n    </tr>\n    <tr>\n      <th>4</th>\n      <td>Aldwych</td>\n      <td>Westminster</td>\n      <td>WC2</td>\n    </tr>\n  </tbody>\n</table>\n</div>", 
                        "text/plain": "     Location                         Borough Postcode\n0  Abbey Wood             Bexley,  Greenwich       SE2\n1       Acton  Ealing, Hammersmith and Fulham       W3\n2       Acton  Ealing, Hammersmith and Fulham       W4\n3     Aldgate                            City      EC3\n4     Aldwych                     Westminster      WC2"
                    }, 
                    "output_type": "execute_result"
                }
            ], 
            "source": "df3.head()"
        }, 
        {
            "source": "Due to the study of the Bouroughts,  Hammersmith and Fulham  are in the  North  West and  South West areas of London. For this project the  South West will be considered for our analysis. The south west areas has postcodes starting with SW", 
            "cell_type": "markdown", 
            "metadata": {}
        }, 
        {
            "execution_count": 29, 
            "cell_type": "code", 
            "metadata": {}, 
            "outputs": [], 
            "source": "df_london = df3 # re-assigns to df_london\n# Strips whitespaces before postcode\ndf_london.Postcode = df_london.Postcode.str.strip()\n# New dataframe for South East London postcodes - df_se\ndf_sw = df_london[df_london['Postcode'].str.startswith(('SW'))].reset_index(drop=True)"
        }, 
        {
            "execution_count": 30, 
            "cell_type": "code", 
            "metadata": {}, 
            "outputs": [
                {
                    "execution_count": 30, 
                    "metadata": {}, 
                    "data": {
                        "text/html": "<div>\n<style scoped>\n    .dataframe tbody tr th:only-of-type {\n        vertical-align: middle;\n    }\n\n    .dataframe tbody tr th {\n        vertical-align: top;\n    }\n\n    .dataframe thead th {\n        text-align: right;\n    }\n</style>\n<table border=\"1\" class=\"dataframe\">\n  <thead>\n    <tr style=\"text-align: right;\">\n      <th></th>\n      <th>Location</th>\n      <th>Borough</th>\n      <th>Postcode</th>\n    </tr>\n  </thead>\n  <tbody>\n    <tr>\n      <th>0</th>\n      <td>Balham</td>\n      <td>Wandsworth</td>\n      <td>SW12</td>\n    </tr>\n    <tr>\n      <th>1</th>\n      <td>Barnes</td>\n      <td>Richmond upon Thames</td>\n      <td>SW13</td>\n    </tr>\n    <tr>\n      <th>2</th>\n      <td>Battersea</td>\n      <td>Wandsworth</td>\n      <td>SW11</td>\n    </tr>\n    <tr>\n      <th>3</th>\n      <td>Belgravia</td>\n      <td>Westminster</td>\n      <td>SW1</td>\n    </tr>\n    <tr>\n      <th>4</th>\n      <td>Brixton</td>\n      <td>Lambeth</td>\n      <td>SW2</td>\n    </tr>\n    <tr>\n      <th>5</th>\n      <td>Brixton</td>\n      <td>Lambeth</td>\n      <td>SW9</td>\n    </tr>\n    <tr>\n      <th>6</th>\n      <td>Brompton</td>\n      <td>Kensington and ChelseaHammersmith and Fulham</td>\n      <td>SW3</td>\n    </tr>\n    <tr>\n      <th>7</th>\n      <td>Castelnau</td>\n      <td>Richmond upon Thames</td>\n      <td>SW13</td>\n    </tr>\n    <tr>\n      <th>8</th>\n      <td>Chelsea</td>\n      <td>Kensington and Chelsea</td>\n      <td>SW3</td>\n    </tr>\n    <tr>\n      <th>9</th>\n      <td>Clapham</td>\n      <td>Lambeth, Wandsworth</td>\n      <td>SW4</td>\n    </tr>\n  </tbody>\n</table>\n</div>", 
                        "text/plain": "    Location                                       Borough Postcode\n0     Balham                                    Wandsworth     SW12\n1     Barnes                          Richmond upon Thames     SW13\n2  Battersea                                    Wandsworth     SW11\n3  Belgravia                                   Westminster      SW1\n4    Brixton                                       Lambeth      SW2\n5    Brixton                                       Lambeth      SW9\n6   Brompton  Kensington and ChelseaHammersmith and Fulham      SW3\n7  Castelnau                          Richmond upon Thames     SW13\n8    Chelsea                        Kensington and Chelsea      SW3\n9    Clapham                           Lambeth, Wandsworth      SW4"
                    }, 
                    "output_type": "execute_result"
                }
            ], 
            "source": "df_sw.head(10)"
        }, 
        {
            "source": "We are intterested to see the demography of London for white people.", 
            "cell_type": "markdown", 
            "metadata": {}
        }, 
        {
            "execution_count": 31, 
            "cell_type": "code", 
            "metadata": {}, 
            "outputs": [
                {
                    "execution_count": 31, 
                    "metadata": {}, 
                    "data": {
                        "text/html": "<div>\n<style scoped>\n    .dataframe tbody tr th:only-of-type {\n        vertical-align: middle;\n    }\n\n    .dataframe tbody tr th {\n        vertical-align: top;\n    }\n\n    .dataframe thead th {\n        text-align: right;\n    }\n</style>\n<table border=\"1\" class=\"dataframe\">\n  <thead>\n    <tr style=\"text-align: right;\">\n      <th></th>\n      <th>Local authority</th>\n      <th>White</th>\n      <th>Mixed</th>\n      <th>Asian</th>\n      <th>Black</th>\n      <th>Other</th>\n    </tr>\n  </thead>\n  <tbody>\n    <tr>\n      <th>0</th>\n      <td>Barnet</td>\n      <td>64.1</td>\n      <td>4.8</td>\n      <td>18.5</td>\n      <td>7.7</td>\n      <td>4.9</td>\n    </tr>\n    <tr>\n      <th>1</th>\n      <td>Barking and Dagenham</td>\n      <td>58.3</td>\n      <td>4.2</td>\n      <td>15.9</td>\n      <td>20</td>\n      <td>1.6</td>\n    </tr>\n    <tr>\n      <th>2</th>\n      <td>Bexley</td>\n      <td>81.9</td>\n      <td>2.3</td>\n      <td>6.6</td>\n      <td>8.5</td>\n      <td>0.8</td>\n    </tr>\n    <tr>\n      <th>3</th>\n      <td>Brent</td>\n      <td>36.3</td>\n      <td>5.1</td>\n      <td>34.1</td>\n      <td>18.8</td>\n      <td>5.8</td>\n    </tr>\n    <tr>\n      <th>4</th>\n      <td>Bromley</td>\n      <td>84.3</td>\n      <td>3.5</td>\n      <td>5.2</td>\n      <td>6</td>\n      <td>0.9</td>\n    </tr>\n    <tr>\n      <th>5</th>\n      <td>Camden</td>\n      <td>66.3</td>\n      <td>5.6</td>\n      <td>16.1</td>\n      <td>8.2</td>\n      <td>3.8</td>\n    </tr>\n    <tr>\n      <th>6</th>\n      <td>City of London</td>\n      <td>78.6</td>\n      <td>3.9</td>\n      <td>12.7</td>\n      <td>2.6</td>\n      <td>2.1</td>\n    </tr>\n    <tr>\n      <th>7</th>\n      <td>Croydon</td>\n      <td>55.1</td>\n      <td>6.6</td>\n      <td>16.4</td>\n      <td>20.2</td>\n      <td>1.8</td>\n    </tr>\n    <tr>\n      <th>8</th>\n      <td>Ealing</td>\n      <td>49</td>\n      <td>4.5</td>\n      <td>29.7</td>\n      <td>10.9</td>\n      <td>6</td>\n    </tr>\n    <tr>\n      <th>9</th>\n      <td>Enfield</td>\n      <td>61</td>\n      <td>5.5</td>\n      <td>11.2</td>\n      <td>17.2</td>\n      <td>5.1</td>\n    </tr>\n    <tr>\n      <th>10</th>\n      <td>Greenwich</td>\n      <td>62.5</td>\n      <td>4.8</td>\n      <td>11.7</td>\n      <td>19.1</td>\n      <td>1.9</td>\n    </tr>\n    <tr>\n      <th>11</th>\n      <td>Hackney</td>\n      <td>54.7</td>\n      <td>6.4</td>\n      <td>10.5</td>\n      <td>23.1</td>\n      <td>5.3</td>\n    </tr>\n    <tr>\n      <th>12</th>\n      <td>Haringey</td>\n      <td>60.5</td>\n      <td>6.5</td>\n      <td>9.5</td>\n      <td>18.8</td>\n      <td>4.7</td>\n    </tr>\n    <tr>\n      <th>13</th>\n      <td>Harrow</td>\n      <td>42.2</td>\n      <td>4</td>\n      <td>42.6</td>\n      <td>8.2</td>\n      <td>2.9</td>\n    </tr>\n    <tr>\n      <th>14</th>\n      <td>Havering</td>\n      <td>87.7</td>\n      <td>2.1</td>\n      <td>4.9</td>\n      <td>4.8</td>\n      <td>0.6</td>\n    </tr>\n    <tr>\n      <th>15</th>\n      <td>Hammersmith and Fulham</td>\n      <td>68.1</td>\n      <td>5.5</td>\n      <td>9.1</td>\n      <td>11.8</td>\n      <td>5.5</td>\n    </tr>\n    <tr>\n      <th>16</th>\n      <td>Hillingdon</td>\n      <td>60.6</td>\n      <td>3.8</td>\n      <td>25.3</td>\n      <td>7.3</td>\n      <td>3</td>\n    </tr>\n    <tr>\n      <th>17</th>\n      <td>Hounslow</td>\n      <td>51.4</td>\n      <td>4.1</td>\n      <td>34.4</td>\n      <td>6.6</td>\n      <td>3.6</td>\n    </tr>\n    <tr>\n      <th>18</th>\n      <td>Islington</td>\n      <td>68.2</td>\n      <td>6.5</td>\n      <td>9.2</td>\n      <td>12.8</td>\n      <td>3.4</td>\n    </tr>\n    <tr>\n      <th>19</th>\n      <td>Kensington and Chelsea</td>\n      <td>70.6</td>\n      <td>5.7</td>\n      <td>10</td>\n      <td>6.5</td>\n      <td>7.2</td>\n    </tr>\n    <tr>\n      <th>20</th>\n      <td>Kingston upon Thames</td>\n      <td>74.5</td>\n      <td>3.9</td>\n      <td>16.3</td>\n      <td>2.5</td>\n      <td>2.7</td>\n    </tr>\n    <tr>\n      <th>21</th>\n      <td>Lambeth</td>\n      <td>57.1</td>\n      <td>7.6</td>\n      <td>6.9</td>\n      <td>25.9</td>\n      <td>2.4</td>\n    </tr>\n    <tr>\n      <th>22</th>\n      <td>Lewisham</td>\n      <td>53.5</td>\n      <td>7.4</td>\n      <td>9.3</td>\n      <td>27.2</td>\n      <td>2.6</td>\n    </tr>\n    <tr>\n      <th>23</th>\n      <td>Merton</td>\n      <td>64.9</td>\n      <td>4.7</td>\n      <td>18.1</td>\n      <td>10.4</td>\n      <td>1.9</td>\n    </tr>\n    <tr>\n      <th>24</th>\n      <td>Newham</td>\n      <td>29</td>\n      <td>4.5</td>\n      <td>43.5</td>\n      <td>19.6</td>\n      <td>3.5</td>\n    </tr>\n    <tr>\n      <th>25</th>\n      <td>Redbridge</td>\n      <td>42.5</td>\n      <td>4.1</td>\n      <td>41.8</td>\n      <td>8.9</td>\n      <td>2.7</td>\n    </tr>\n    <tr>\n      <th>26</th>\n      <td>Richmond upon Thames</td>\n      <td>86</td>\n      <td>3.6</td>\n      <td>7.3</td>\n      <td>1.5</td>\n      <td>1.6</td>\n    </tr>\n    <tr>\n      <th>27</th>\n      <td>Southwark</td>\n      <td>54.3</td>\n      <td>6.2</td>\n      <td>9.4</td>\n      <td>26.9</td>\n      <td>3.3</td>\n    </tr>\n    <tr>\n      <th>28</th>\n      <td>Sutton</td>\n      <td>78.6</td>\n      <td>3.8</td>\n      <td>11.6</td>\n      <td>4.8</td>\n      <td>1.3</td>\n    </tr>\n    <tr>\n      <th>29</th>\n      <td>Tower Hamlets</td>\n      <td>45.2</td>\n      <td>4.1</td>\n      <td>41.1</td>\n      <td>7.3</td>\n      <td>2.3</td>\n    </tr>\n    <tr>\n      <th>30</th>\n      <td>Waltham Forest</td>\n      <td>52.2</td>\n      <td>5.3</td>\n      <td>21.1</td>\n      <td>17.3</td>\n      <td>4.1</td>\n    </tr>\n    <tr>\n      <th>31</th>\n      <td>Wandsworth</td>\n      <td>71.4</td>\n      <td>5</td>\n      <td>10.9</td>\n      <td>10.7</td>\n      <td>2.1</td>\n    </tr>\n    <tr>\n      <th>32</th>\n      <td>Westminster</td>\n      <td>61.7</td>\n      <td>5.2</td>\n      <td>14.5</td>\n      <td>7.5</td>\n      <td>11.1</td>\n    </tr>\n  </tbody>\n</table>\n</div>", 
                        "text/plain": "           Local authority White Mixed Asian Black Other\n0                   Barnet  64.1   4.8  18.5   7.7   4.9\n1     Barking and Dagenham  58.3   4.2  15.9    20   1.6\n2                   Bexley  81.9   2.3   6.6   8.5   0.8\n3                    Brent  36.3   5.1  34.1  18.8   5.8\n4                  Bromley  84.3   3.5   5.2     6   0.9\n5                   Camden  66.3   5.6  16.1   8.2   3.8\n6           City of London  78.6   3.9  12.7   2.6   2.1\n7                  Croydon  55.1   6.6  16.4  20.2   1.8\n8                   Ealing    49   4.5  29.7  10.9     6\n9                  Enfield    61   5.5  11.2  17.2   5.1\n10               Greenwich  62.5   4.8  11.7  19.1   1.9\n11                 Hackney  54.7   6.4  10.5  23.1   5.3\n12                Haringey  60.5   6.5   9.5  18.8   4.7\n13                  Harrow  42.2     4  42.6   8.2   2.9\n14                Havering  87.7   2.1   4.9   4.8   0.6\n15  Hammersmith and Fulham  68.1   5.5   9.1  11.8   5.5\n16              Hillingdon  60.6   3.8  25.3   7.3     3\n17                Hounslow  51.4   4.1  34.4   6.6   3.6\n18               Islington  68.2   6.5   9.2  12.8   3.4\n19  Kensington and Chelsea  70.6   5.7    10   6.5   7.2\n20    Kingston upon Thames  74.5   3.9  16.3   2.5   2.7\n21                 Lambeth  57.1   7.6   6.9  25.9   2.4\n22                Lewisham  53.5   7.4   9.3  27.2   2.6\n23                  Merton  64.9   4.7  18.1  10.4   1.9\n24                  Newham    29   4.5  43.5  19.6   3.5\n25               Redbridge  42.5   4.1  41.8   8.9   2.7\n26    Richmond upon Thames    86   3.6   7.3   1.5   1.6\n27               Southwark  54.3   6.2   9.4  26.9   3.3\n28                  Sutton  78.6   3.8  11.6   4.8   1.3\n29           Tower Hamlets  45.2   4.1  41.1   7.3   2.3\n30          Waltham Forest  52.2   5.3  21.1  17.3   4.1\n31              Wandsworth  71.4     5  10.9  10.7   2.1\n32             Westminster  61.7   5.2  14.5   7.5  11.1"
                    }, 
                    "output_type": "execute_result"
                }
            ], 
            "source": "demograph_link = 'https://en.wikipedia.org/wiki/Demography_of_London'\ndemograph_page = requests.get(demograph_link)\nsoup1 = BeautifulSoup(demograph_page.content, 'html.parser')\ntable1 = soup1.find('table', {'class':'wikitable sortable'}).tbody\nrows1 = table1.find_all('tr')\ncolumns1 = [i.text.replace('\\n', '')\n for i in rows1[0].find_all('th')]\ndemo_london = pd.DataFrame(columns = columns1)\nfor j in range(1, len(rows1)):\n    tds1 = rows1[j].find_all('td')\n    if len(tds1) == 7:\n        values1 = [tds1[0].text, tds1[1].text, tds1[2].text.replace('\\n', ''.replace('\\xa0','')), tds1[3].text, tds1[4].text.replace('\\n', ''.replace('\\xa0','')), tds1[5].text.replace('\\n', ''.replace('\\xa0',''))]\n    else:\n        values1 = [td1.text.replace('\\n', '').replace('\\xa0','') for td1 in tds1]\n        \n        demo_london = demo_london.append(pd.Series(values1, index = columns1), ignore_index = True)\ndemo_london"
        }, 
        {
            "execution_count": 32, 
            "cell_type": "code", 
            "metadata": {}, 
            "outputs": [], 
            "source": "#converting string to float"
        }, 
        {
            "execution_count": 33, 
            "cell_type": "code", 
            "metadata": {}, 
            "outputs": [], 
            "source": "demo_london['White'] = demo_london['White'].astype('float')\ndemo_london_sorted = demo_london.sort_values(by='White', ascending = False)\n"
        }, 
        {
            "execution_count": 34, 
            "cell_type": "code", 
            "metadata": {}, 
            "outputs": [
                {
                    "execution_count": 34, 
                    "metadata": {}, 
                    "data": {
                        "text/html": "<div>\n<style scoped>\n    .dataframe tbody tr th:only-of-type {\n        vertical-align: middle;\n    }\n\n    .dataframe tbody tr th {\n        vertical-align: top;\n    }\n\n    .dataframe thead th {\n        text-align: right;\n    }\n</style>\n<table border=\"1\" class=\"dataframe\">\n  <thead>\n    <tr style=\"text-align: right;\">\n      <th></th>\n      <th>Local authority</th>\n      <th>White</th>\n      <th>Mixed</th>\n      <th>Asian</th>\n      <th>Black</th>\n      <th>Other</th>\n    </tr>\n  </thead>\n  <tbody>\n    <tr>\n      <th>14</th>\n      <td>Havering</td>\n      <td>87.7</td>\n      <td>2.1</td>\n      <td>4.9</td>\n      <td>4.8</td>\n      <td>0.6</td>\n    </tr>\n    <tr>\n      <th>26</th>\n      <td>Richmond upon Thames</td>\n      <td>86.0</td>\n      <td>3.6</td>\n      <td>7.3</td>\n      <td>1.5</td>\n      <td>1.6</td>\n    </tr>\n    <tr>\n      <th>4</th>\n      <td>Bromley</td>\n      <td>84.3</td>\n      <td>3.5</td>\n      <td>5.2</td>\n      <td>6</td>\n      <td>0.9</td>\n    </tr>\n    <tr>\n      <th>2</th>\n      <td>Bexley</td>\n      <td>81.9</td>\n      <td>2.3</td>\n      <td>6.6</td>\n      <td>8.5</td>\n      <td>0.8</td>\n    </tr>\n    <tr>\n      <th>6</th>\n      <td>City of London</td>\n      <td>78.6</td>\n      <td>3.9</td>\n      <td>12.7</td>\n      <td>2.6</td>\n      <td>2.1</td>\n    </tr>\n    <tr>\n      <th>28</th>\n      <td>Sutton</td>\n      <td>78.6</td>\n      <td>3.8</td>\n      <td>11.6</td>\n      <td>4.8</td>\n      <td>1.3</td>\n    </tr>\n    <tr>\n      <th>20</th>\n      <td>Kingston upon Thames</td>\n      <td>74.5</td>\n      <td>3.9</td>\n      <td>16.3</td>\n      <td>2.5</td>\n      <td>2.7</td>\n    </tr>\n    <tr>\n      <th>31</th>\n      <td>Wandsworth</td>\n      <td>71.4</td>\n      <td>5</td>\n      <td>10.9</td>\n      <td>10.7</td>\n      <td>2.1</td>\n    </tr>\n    <tr>\n      <th>19</th>\n      <td>Kensington and Chelsea</td>\n      <td>70.6</td>\n      <td>5.7</td>\n      <td>10</td>\n      <td>6.5</td>\n      <td>7.2</td>\n    </tr>\n    <tr>\n      <th>18</th>\n      <td>Islington</td>\n      <td>68.2</td>\n      <td>6.5</td>\n      <td>9.2</td>\n      <td>12.8</td>\n      <td>3.4</td>\n    </tr>\n  </tbody>\n</table>\n</div>", 
                        "text/plain": "           Local authority  White Mixed Asian Black Other\n14                Havering   87.7   2.1   4.9   4.8   0.6\n26    Richmond upon Thames   86.0   3.6   7.3   1.5   1.6\n4                  Bromley   84.3   3.5   5.2     6   0.9\n2                   Bexley   81.9   2.3   6.6   8.5   0.8\n6           City of London   78.6   3.9  12.7   2.6   2.1\n28                  Sutton   78.6   3.8  11.6   4.8   1.3\n20    Kingston upon Thames   74.5   3.9  16.3   2.5   2.7\n31              Wandsworth   71.4     5  10.9  10.7   2.1\n19  Kensington and Chelsea   70.6   5.7    10   6.5   7.2\n18               Islington   68.2   6.5   9.2  12.8   3.4"
                    }, 
                    "output_type": "execute_result"
                }
            ], 
            "source": "demo_london_sorted.head(10)"
        }, 
        {
            "execution_count": 35, 
            "cell_type": "code", 
            "metadata": {}, 
            "outputs": [
                {
                    "execution_count": 35, 
                    "metadata": {}, 
                    "data": {
                        "text/plain": "61.584848484848486"
                    }, 
                    "output_type": "execute_result"
                }
            ], 
            "source": "demo_london_sorted[\"White\"].mean()"
        }, 
        {
            "source": " Considering the  the top 6 areas \n with higher of the average  white people around > 61.58% we have the following list of Boroughs: \n\n1. Hammersmith and Fulham\t68.1%\n2.\tCamden\t66.3%\n3.\tMerton\t64.9%\n4.\tBarnet\t64.1%\n5.\tGreenwich\t62.5%\n6.\tWestminster\t61.7%\n \n\n \n ", 
            "cell_type": "markdown", 
            "metadata": {}
        }, 
        {
            "execution_count": 36, 
            "cell_type": "code", 
            "metadata": {}, 
            "outputs": [], 
            "source": "df_sw_top = df_sw[df_sw['Borough'].isin(['Hammersmith and Fulham','Camden', 'Merton', 'Barnet','Greenwich', 'Westminster'])].reset_index(drop=True)\n"
        }, 
        {
            "execution_count": 37, 
            "cell_type": "code", 
            "metadata": {}, 
            "outputs": [
                {
                    "execution_count": 37, 
                    "metadata": {}, 
                    "data": {
                        "text/html": "<div>\n<style scoped>\n    .dataframe tbody tr th:only-of-type {\n        vertical-align: middle;\n    }\n\n    .dataframe tbody tr th {\n        vertical-align: top;\n    }\n\n    .dataframe thead th {\n        text-align: right;\n    }\n</style>\n<table border=\"1\" class=\"dataframe\">\n  <thead>\n    <tr style=\"text-align: right;\">\n      <th></th>\n      <th>Location</th>\n      <th>Borough</th>\n      <th>Postcode</th>\n    </tr>\n  </thead>\n  <tbody>\n    <tr>\n      <th>0</th>\n      <td>Belgravia</td>\n      <td>Westminster</td>\n      <td>SW1</td>\n    </tr>\n    <tr>\n      <th>1</th>\n      <td>Colliers Wood</td>\n      <td>Merton</td>\n      <td>SW19</td>\n    </tr>\n    <tr>\n      <th>2</th>\n      <td>Fulham</td>\n      <td>Hammersmith and Fulham</td>\n      <td>SW6</td>\n    </tr>\n    <tr>\n      <th>3</th>\n      <td>Knightsbridge</td>\n      <td>Westminster</td>\n      <td>SW1</td>\n    </tr>\n    <tr>\n      <th>4</th>\n      <td>Merton Park</td>\n      <td>Merton</td>\n      <td>SW19</td>\n    </tr>\n    <tr>\n      <th>5</th>\n      <td>Millbank</td>\n      <td>Westminster</td>\n      <td>SW1</td>\n    </tr>\n    <tr>\n      <th>6</th>\n      <td>Parsons Green</td>\n      <td>Hammersmith and Fulham</td>\n      <td>SW6</td>\n    </tr>\n    <tr>\n      <th>7</th>\n      <td>Pimlico</td>\n      <td>Westminster</td>\n      <td>SW1</td>\n    </tr>\n    <tr>\n      <th>8</th>\n      <td>Raynes Park</td>\n      <td>Merton</td>\n      <td>SW20</td>\n    </tr>\n    <tr>\n      <th>9</th>\n      <td>Sands End</td>\n      <td>Hammersmith and Fulham</td>\n      <td>SW6</td>\n    </tr>\n    <tr>\n      <th>10</th>\n      <td>South Wimbledon</td>\n      <td>Merton</td>\n      <td>SW19</td>\n    </tr>\n    <tr>\n      <th>11</th>\n      <td>St James's</td>\n      <td>Westminster</td>\n      <td>SW1</td>\n    </tr>\n    <tr>\n      <th>12</th>\n      <td>Westminster</td>\n      <td>Westminster</td>\n      <td>SW1</td>\n    </tr>\n    <tr>\n      <th>13</th>\n      <td>Wimbledon</td>\n      <td>Merton</td>\n      <td>SW19</td>\n    </tr>\n    <tr>\n      <th>14</th>\n      <td>Wimbledon</td>\n      <td>Merton</td>\n      <td>SW20</td>\n    </tr>\n  </tbody>\n</table>\n</div>", 
                        "text/plain": "           Location                 Borough Postcode\n0         Belgravia             Westminster      SW1\n1     Colliers Wood                  Merton     SW19\n2            Fulham  Hammersmith and Fulham      SW6\n3     Knightsbridge             Westminster      SW1\n4       Merton Park                  Merton     SW19\n5          Millbank             Westminster      SW1\n6     Parsons Green  Hammersmith and Fulham      SW6\n7           Pimlico             Westminster      SW1\n8       Raynes Park                  Merton     SW20\n9         Sands End  Hammersmith and Fulham      SW6\n10  South Wimbledon                  Merton     SW19\n11       St James's             Westminster      SW1\n12      Westminster             Westminster      SW1\n13        Wimbledon                  Merton     SW19\n14        Wimbledon                  Merton     SW20"
                    }, 
                    "output_type": "execute_result"
                }
            ], 
            "source": "df_sw_top"
        }, 
        {
            "execution_count": 38, 
            "cell_type": "code", 
            "metadata": {}, 
            "outputs": [
                {
                    "execution_count": 38, 
                    "metadata": {}, 
                    "data": {
                        "text/plain": "(15, 3)"
                    }, 
                    "output_type": "execute_result"
                }
            ], 
            "source": "df_sw_top.shape"
        }, 
        {
            "execution_count": 39, 
            "cell_type": "code", 
            "metadata": {}, 
            "outputs": [], 
            "source": "# Geocoder starts here\n# Defining a function to use --> get_latlng()'''\ndef get_latlng(arcgis_geocoder):\n    \n    # Initialize the Location (lat. and long.) to \"None\"\n    lat_lng_coords = None\n    \n    # While loop helps to create a continous run until all the location coordinates are geocoded\n    while(lat_lng_coords is None):\n        g = geocoder.arcgis('{}, London, United Kingdom'.format(arcgis_geocoder))\n        lat_lng_coords = g.latlng\n    return lat_lng_coords\n# Geocoder ends here"
        }, 
        {
            "execution_count": 40, 
            "cell_type": "code", 
            "metadata": {}, 
            "outputs": [], 
            "source": "sample = get_latlng('SW6')"
        }, 
        {
            "execution_count": 41, 
            "cell_type": "code", 
            "metadata": {}, 
            "outputs": [
                {
                    "execution_count": 41, 
                    "metadata": {}, 
                    "data": {
                        "text/plain": "[51.47772000000003, -0.2014499999999657]"
                    }, 
                    "output_type": "execute_result"
                }
            ], 
            "source": "sample"
        }, 
        {
            "execution_count": 42, 
            "cell_type": "code", 
            "metadata": {}, 
            "outputs": [
                {
                    "execution_count": 42, 
                    "metadata": {}, 
                    "data": {
                        "text/plain": "<[OK] Geocodefarm - Reverse [687b Fulham Road, London, SW6 5UJ, United Kingdom]>"
                    }, 
                    "output_type": "execute_result"
                }
            ], 
            "source": "ga = geocoder.geocodefarm(sample, method = 'reverse')\nga\n"
        }, 
        {
            "execution_count": 43, 
            "cell_type": "code", 
            "metadata": {}, 
            "outputs": [
                {
                    "output_type": "stream", 
                    "name": "stdout", 
                    "text": "Time of execution:  12.370892524719238 seconds\n"
                }
            ], 
            "source": "start = time.time()\npostal_codes = df_sw_top['Postcode']    \ncoordinates = [get_latlng(postal_code) for postal_code in postal_codes.tolist()]\nend = time.time()\nprint(\"Time of execution: \", end - start, \"seconds\")"
        }, 
        {
            "source": "Then we proceed to store the location data \u2014 latitude and longitude as follows. The obtained coordinates are then joined to df_sw_topto create new data frame.", 
            "cell_type": "markdown", 
            "metadata": {}
        }, 
        {
            "execution_count": 44, 
            "cell_type": "code", 
            "metadata": {}, 
            "outputs": [
                {
                    "execution_count": 44, 
                    "metadata": {}, 
                    "data": {
                        "text/html": "<div>\n<style scoped>\n    .dataframe tbody tr th:only-of-type {\n        vertical-align: middle;\n    }\n\n    .dataframe tbody tr th {\n        vertical-align: top;\n    }\n\n    .dataframe thead th {\n        text-align: right;\n    }\n</style>\n<table border=\"1\" class=\"dataframe\">\n  <thead>\n    <tr style=\"text-align: right;\">\n      <th></th>\n      <th>Location</th>\n      <th>Borough</th>\n      <th>Postcode</th>\n      <th>Latitude</th>\n      <th>Longitude</th>\n    </tr>\n  </thead>\n  <tbody>\n    <tr>\n      <th>0</th>\n      <td>Belgravia</td>\n      <td>Westminster</td>\n      <td>SW1</td>\n      <td>51.49713</td>\n      <td>-0.13829</td>\n    </tr>\n    <tr>\n      <th>1</th>\n      <td>Colliers Wood</td>\n      <td>Merton</td>\n      <td>SW19</td>\n      <td>51.42170</td>\n      <td>-0.20796</td>\n    </tr>\n    <tr>\n      <th>2</th>\n      <td>Fulham</td>\n      <td>Hammersmith and Fulham</td>\n      <td>SW6</td>\n      <td>51.47772</td>\n      <td>-0.20145</td>\n    </tr>\n    <tr>\n      <th>3</th>\n      <td>Knightsbridge</td>\n      <td>Westminster</td>\n      <td>SW1</td>\n      <td>51.49713</td>\n      <td>-0.13829</td>\n    </tr>\n    <tr>\n      <th>4</th>\n      <td>Merton Park</td>\n      <td>Merton</td>\n      <td>SW19</td>\n      <td>51.42170</td>\n      <td>-0.20796</td>\n    </tr>\n  </tbody>\n</table>\n</div>", 
                        "text/plain": "        Location                 Borough Postcode  Latitude  Longitude\n0      Belgravia             Westminster      SW1  51.49713   -0.13829\n1  Colliers Wood                  Merton     SW19  51.42170   -0.20796\n2         Fulham  Hammersmith and Fulham      SW6  51.47772   -0.20145\n3  Knightsbridge             Westminster      SW1  51.49713   -0.13829\n4    Merton Park                  Merton     SW19  51.42170   -0.20796"
                    }, 
                    "output_type": "execute_result"
                }
            ], 
            "source": "df_sw_loc = df_sw_top\n# The obtained coordinates (latitude and longitude) are joined with the dataframe as shown\ndf_sw_coordinates = pd.DataFrame(coordinates, columns = ['Latitude', 'Longitude'])\ndf_sw_loc['Latitude'] = df_sw_coordinates['Latitude']\ndf_sw_loc['Longitude'] = df_sw_coordinates['Longitude']\ndf_sw_loc.head(5)"
        }, 
        {
            "execution_count": 45, 
            "cell_type": "code", 
            "metadata": {}, 
            "outputs": [
                {
                    "execution_count": 45, 
                    "metadata": {}, 
                    "data": {
                        "text/plain": "(15, 5)"
                    }, 
                    "output_type": "execute_result"
                }
            ], 
            "source": "df_sw_loc.shape"
        }, 
        {
            "source": "In orderting to use Foursquare, it is needed the credentials, that are saved in the file credential.json", 
            "cell_type": "markdown", 
            "metadata": {}
        }, 
        {
            "execution_count": 46, 
            "cell_type": "code", 
            "metadata": {}, 
            "outputs": [], 
            "source": "import json\nfilename = 'credential.json'\nwith open(filename) as f:\n    data = json.load(f)"
        }, 
        {
            "execution_count": null, 
            "cell_type": "code", 
            "metadata": {}, 
            "outputs": [], 
            "source": ""
        }, 
        {
            "execution_count": 47, 
            "cell_type": "code", 
            "metadata": {}, 
            "outputs": [], 
            "source": "CLIENT_ID = data['CLIENT_ID'] #Foursquare )FS) ID\nCLIENT_SECRET = data['CLIENT_SECRET'] # FS Secret\nVERSION = data['VERSION'] # FS API version"
        }, 
        {
            "execution_count": 48, 
            "cell_type": "code", 
            "metadata": {}, 
            "outputs": [], 
            "source": "\n#LIMIT = 30\n#print('Your credentails:')\n#print('CLIENT_ID: ' + CLIENT_ID)\n#print('CLIENT_SECRET:' + CLIENT_SECRET)"
        }, 
        {
            "source": "## 3. Methodology\n\n\n\nWith the Foursquare site, we are going to obtain a data set of stores around specific locations, which will be stored into a data frame and with that, it is possible to do the analytics.\n\nFirst, we will proceed with the exploration and the collecting of data over a single Neighbourhood and later we proceed the same procedure with multiple Neighbourhoods storing a data frame.\n\nThe following step is get the cluster of the venues by location and identify the top most cooomon venues by cluster.\n\n### 3.1 Data Exploration\n####  Single Neighbourhood \n\nAn initial exploration of a single Neighbourhood within the London area was done to examine the Foursquare.", 
            "cell_type": "markdown", 
            "metadata": {}
        }, 
        {
            "execution_count": 49, 
            "cell_type": "code", 
            "metadata": {}, 
            "outputs": [
                {
                    "execution_count": 49, 
                    "metadata": {}, 
                    "data": {
                        "text/html": "<div>\n<style scoped>\n    .dataframe tbody tr th:only-of-type {\n        vertical-align: middle;\n    }\n\n    .dataframe tbody tr th {\n        vertical-align: top;\n    }\n\n    .dataframe thead th {\n        text-align: right;\n    }\n</style>\n<table border=\"1\" class=\"dataframe\">\n  <thead>\n    <tr style=\"text-align: right;\">\n      <th></th>\n      <th>Location</th>\n      <th>Borough</th>\n      <th>Postcode</th>\n      <th>Latitude</th>\n      <th>Longitude</th>\n    </tr>\n  </thead>\n  <tbody>\n    <tr>\n      <th>2</th>\n      <td>Fulham</td>\n      <td>Hammersmith and Fulham</td>\n      <td>SW6</td>\n      <td>51.47772</td>\n      <td>-0.20145</td>\n    </tr>\n  </tbody>\n</table>\n</div>", 
                        "text/plain": "  Location                 Borough Postcode  Latitude  Longitude\n2   Fulham  Hammersmith and Fulham      SW6  51.47772   -0.20145"
                    }, 
                    "output_type": "execute_result"
                }
            ], 
            "source": "# Resets the current index to a new\nsw_df = df_sw_loc.reset_index().drop('index', axis = 1)\nsw_df.loc[sw_df['Location'] == 'Fulham']"
        }, 
        {
            "source": "let\u2019s use the Fulham with the index location 2 as shown below:", 
            "cell_type": "markdown", 
            "metadata": {}
        }, 
        {
            "execution_count": 50, 
            "cell_type": "code", 
            "metadata": {}, 
            "outputs": [
                {
                    "output_type": "stream", 
                    "name": "stdout", 
                    "text": "The latitude and longitude values of Fulham with postcode SW6, are 51.47772000000003, -0.2014499999999657.\n"
                }
            ], 
            "source": "Fulham_lat = sw_df.loc[2, 'Latitude']\nFulham_long = sw_df.loc[2, 'Longitude']\nFulham_loc = sw_df.loc[2, 'Location']\nFulham_postcode = sw_df.loc[2, 'Postcode']\nprint('The latitude and longitude values of {} with postcode {}, are {}, {}.'.format(Fulham_loc, Fulham_postcode, Fulham_lat, Fulham_long))"
        }, 
        {
            "execution_count": null, 
            "cell_type": "code", 
            "metadata": {}, 
            "outputs": [], 
            "source": ""
        }, 
        {
            "source": "Let\u2019s explore the top 50 venues that are within a 1500 metres radius of Fulham . And then, let\u2019s create the GET request URL, and then the url is named.", 
            "cell_type": "markdown", 
            "metadata": {}
        }, 
        {
            "execution_count": 51, 
            "cell_type": "code", 
            "metadata": {}, 
            "outputs": [
                {
                    "execution_count": 51, 
                    "metadata": {}, 
                    "data": {
                        "text/plain": "'https://api.foursquare.com/v2/venues/explore?&client_id=VV415VZUJXDXFEELDKJ45UIUKUEY1R2X3MUUEO5PBVHCQ5XB&client_secret=RPJJV01CL5EG31FBDK1FTWD4BMCJZVXVR0LWIWD03QQBI3N0&v=20180604&ll=51.47772000000003,-0.2014499999999657&radius=1500&limit=50'"
                    }, 
                    "output_type": "execute_result"
                }
            ], 
            "source": "# Credentials are provided already for this part\nLIMIT = 50 # limit of number of venues returned by Foursquare API\nradius = 1500 # define radius\nurl = 'https://api.foursquare.com/v2/venues/explore?&client_id={}&client_secret={}&v={}&ll={},{}&radius={}&limit={}'.format(\n    CLIENT_ID, \n    CLIENT_SECRET, \n    VERSION, \n    Fulham_lat, \n    Fulham_long, \n    radius, \n    LIMIT)\n# displays URL\nurl"
        }, 
        {
            "execution_count": 52, 
            "cell_type": "code", 
            "metadata": {}, 
            "outputs": [], 
            "source": "results = requests.get(url).json()\n"
        }, 
        {
            "source": "From the results, the necessary information needs to be obtained from items key. \nTo do this, the get_category_type function is used from the Foursquare.", 
            "cell_type": "markdown", 
            "metadata": {}
        }, 
        {
            "execution_count": 53, 
            "cell_type": "code", 
            "metadata": {}, 
            "outputs": [], 
            "source": "# function that extracts the category of the venue\ndef get_category_type(row):\n    try:\n        categories_list = row['categories']\n    except:\n        categories_list = row['venue.categories']\n        \n    if len(categories_list) == 0:\n        return None\n    else:\n        return categories_list[0]['name']"
        }, 
        {
            "source": "The result is then cleaned up from json to a structured pandas dataframe as shown below:", 
            "cell_type": "markdown", 
            "metadata": {}
        }, 
        {
            "execution_count": 54, 
            "cell_type": "code", 
            "metadata": {}, 
            "outputs": [], 
            "source": "import numpy as np\nimport pandas as pd"
        }, 
        {
            "execution_count": 55, 
            "cell_type": "code", 
            "metadata": {}, 
            "outputs": [
                {
                    "execution_count": 55, 
                    "metadata": {}, 
                    "data": {
                        "text/html": "<div>\n<style scoped>\n    .dataframe tbody tr th:only-of-type {\n        vertical-align: middle;\n    }\n\n    .dataframe tbody tr th {\n        vertical-align: top;\n    }\n\n    .dataframe thead th {\n        text-align: right;\n    }\n</style>\n<table border=\"1\" class=\"dataframe\">\n  <thead>\n    <tr style=\"text-align: right;\">\n      <th></th>\n      <th>name</th>\n      <th>categories</th>\n      <th>lat</th>\n      <th>lng</th>\n    </tr>\n  </thead>\n  <tbody>\n    <tr>\n      <th>0</th>\n      <td>GAIL's Bakery</td>\n      <td>Bakery</td>\n      <td>51.476830</td>\n      <td>-0.202668</td>\n    </tr>\n    <tr>\n      <th>1</th>\n      <td>Local Hero</td>\n      <td>Caf\u00e9</td>\n      <td>51.476264</td>\n      <td>-0.204713</td>\n    </tr>\n    <tr>\n      <th>2</th>\n      <td>Baileys Fish &amp; Chips</td>\n      <td>Fish &amp; Chips Shop</td>\n      <td>51.480452</td>\n      <td>-0.203987</td>\n    </tr>\n    <tr>\n      <th>3</th>\n      <td>The Power Yoga Company</td>\n      <td>Yoga Studio</td>\n      <td>51.474317</td>\n      <td>-0.204456</td>\n    </tr>\n    <tr>\n      <th>4</th>\n      <td>Nuntee Thai Cuisine</td>\n      <td>Thai Restaurant</td>\n      <td>51.476795</td>\n      <td>-0.203420</td>\n    </tr>\n    <tr>\n      <th>5</th>\n      <td>The White Horse</td>\n      <td>Pub</td>\n      <td>51.474319</td>\n      <td>-0.200482</td>\n    </tr>\n    <tr>\n      <th>6</th>\n      <td>Parsons Green</td>\n      <td>Park</td>\n      <td>51.474922</td>\n      <td>-0.206278</td>\n    </tr>\n    <tr>\n      <th>7</th>\n      <td>Shot Espresso</td>\n      <td>Coffee Shop</td>\n      <td>51.480614</td>\n      <td>-0.198148</td>\n    </tr>\n    <tr>\n      <th>8</th>\n      <td>The Climbing Hangar</td>\n      <td>Climbing Gym</td>\n      <td>51.476383</td>\n      <td>-0.199611</td>\n    </tr>\n    <tr>\n      <th>9</th>\n      <td>Chairs &amp; Coffee</td>\n      <td>Coffee Shop</td>\n      <td>51.479713</td>\n      <td>-0.198987</td>\n    </tr>\n  </tbody>\n</table>\n</div>", 
                        "text/plain": "                     name         categories        lat       lng\n0           GAIL's Bakery             Bakery  51.476830 -0.202668\n1              Local Hero               Caf\u00e9  51.476264 -0.204713\n2    Baileys Fish & Chips  Fish & Chips Shop  51.480452 -0.203987\n3  The Power Yoga Company        Yoga Studio  51.474317 -0.204456\n4     Nuntee Thai Cuisine    Thai Restaurant  51.476795 -0.203420\n5         The White Horse                Pub  51.474319 -0.200482\n6           Parsons Green               Park  51.474922 -0.206278\n7           Shot Espresso        Coffee Shop  51.480614 -0.198148\n8     The Climbing Hangar       Climbing Gym  51.476383 -0.199611\n9         Chairs & Coffee        Coffee Shop  51.479713 -0.198987"
                    }, 
                    "output_type": "execute_result"
                }
            ], 
            "source": "venues = results['response']['groups'][0]['items']\n    \nnearby_venues = json_normalize(venues) # flatten JSON\n# filter columns\nfiltered_columns = ['venue.name', 'venue.categories', 'venue.location.lat', 'venue.location.lng']\nnearby_venues =nearby_venues.loc[:, filtered_columns]\n# filter the category for each row\nnearby_venues['venue.categories'] = nearby_venues.apply(get_category_type, axis=1)\n# clean columns\nnearby_venues.columns = [col.split(\".\")[-1] for col in nearby_venues.columns]\nnearby_venues.head(10)"
        }, 
        {
            "execution_count": 56, 
            "cell_type": "code", 
            "metadata": {}, 
            "outputs": [], 
            "source": "nearby_venues_Fulham_unique = nearby_venues['categories'].value_counts().to_frame(name='Count')\n"
        }, 
        {
            "source": "The most common venues in Fulhan are:", 
            "cell_type": "markdown", 
            "metadata": {}
        }, 
        {
            "execution_count": 61, 
            "cell_type": "code", 
            "metadata": {}, 
            "outputs": [
                {
                    "execution_count": 61, 
                    "metadata": {}, 
                    "data": {
                        "text/html": "<div>\n<style scoped>\n    .dataframe tbody tr th:only-of-type {\n        vertical-align: middle;\n    }\n\n    .dataframe tbody tr th {\n        vertical-align: top;\n    }\n\n    .dataframe thead th {\n        text-align: right;\n    }\n</style>\n<table border=\"1\" class=\"dataframe\">\n  <thead>\n    <tr style=\"text-align: right;\">\n      <th></th>\n      <th>Count</th>\n    </tr>\n  </thead>\n  <tbody>\n    <tr>\n      <th>Caf\u00e9</th>\n      <td>9</td>\n    </tr>\n    <tr>\n      <th>Pizza Place</th>\n      <td>4</td>\n    </tr>\n    <tr>\n      <th>Pub</th>\n      <td>3</td>\n    </tr>\n    <tr>\n      <th>Gastropub</th>\n      <td>2</td>\n    </tr>\n    <tr>\n      <th>Fish &amp; Chips Shop</th>\n      <td>2</td>\n    </tr>\n  </tbody>\n</table>\n</div>", 
                        "text/plain": "                   Count\nCaf\u00e9                   9\nPizza Place            4\nPub                    3\nGastropub              2\nFish & Chips Shop      2"
                    }, 
                    "output_type": "execute_result"
                }
            ], 
            "source": "nearby_venues_Fulham_unique.head(5)"
        }, 
        {
            "source": "So in Fulham the top nearby venues are cafe, pizza place, pub, gastropub and fish & chips Shop.", 
            "cell_type": "markdown", 
            "metadata": {}
        }, 
        {
            "source": "#### Multiple Neighbourhoods ", 
            "cell_type": "markdown", 
            "metadata": {}
        }, 
        {
            "source": "In ordering to repeat the previous procedure applied to multiple Neighbourhoods, we define a function:", 
            "cell_type": "markdown", 
            "metadata": {}
        }, 
        {
            "execution_count": 62, 
            "cell_type": "code", 
            "metadata": {}, 
            "outputs": [], 
            "source": "def getNearbyVenues(names, latitudes, longitudes, radius=500):\n    \n    venues_list=[]\n    for name, lat, lng in zip(names, latitudes, longitudes):\n        print(name)\n            \n        # create the API request URL\n        url = 'https://api.foursquare.com/v2/venues/explore?&client_id={}&client_secret={}&v={}&ll={},{}&radius={}&limit={}'.format(\n            CLIENT_ID, \n            CLIENT_SECRET, \n            VERSION, \n            lat, \n            lng, \n            radius, \n            LIMIT)\n            \n        # make the GET request\n        results = requests.get(url).json()[\"response\"]['groups'][0]['items']\n        \n        # return only relevant information for each nearby venue\n        venues_list.append([(\n            name, \n            lat, \n            lng, \n            v['venue']['name'], \n            v['venue']['location']['lat'], \n            v['venue']['location']['lng'],  \n            v['venue']['categories'][0]['name']) for v in results])\n\n    nearby_venues = pd.DataFrame([item for venue_list in venues_list for item in venue_list])\n    nearby_venues.columns = ['Neighborhood', \n                  'Neighborhood Latitude', \n                  'Neighborhood Longitude', \n                  'Venue', \n                  'Venue Latitude', 'Venue Longitude', \n                  'Venue Category']\n    \n    return(nearby_venues)"
        }, 
        {
            "source": "and we use this function by using our data frame sw_df as follows:", 
            "cell_type": "markdown", 
            "metadata": {}
        }, 
        {
            "execution_count": 63, 
            "cell_type": "code", 
            "metadata": {}, 
            "outputs": [
                {
                    "output_type": "stream", 
                    "name": "stdout", 
                    "text": "Belgravia\nColliers Wood\nFulham\nKnightsbridge\nMerton Park\nMillbank\nParsons Green\nPimlico\nRaynes Park\nSands End\nSouth Wimbledon\nSt James's\nWestminster\nWimbledon\nWimbledon\n"
                }
            ], 
            "source": "sw_venues = getNearbyVenues(names=sw_df['Location'],\n                                   latitudes=sw_df['Latitude'],\n                                   longitudes=sw_df['Longitude']\n                                  )"
        }, 
        {
            "execution_count": 64, 
            "cell_type": "code", 
            "metadata": {}, 
            "outputs": [
                {
                    "execution_count": 64, 
                    "metadata": {}, 
                    "data": {
                        "text/plain": "(714, 7)"
                    }, 
                    "output_type": "execute_result"
                }
            ], 
            "source": "sw_venues.shape"
        }, 
        {
            "execution_count": 65, 
            "cell_type": "code", 
            "metadata": {}, 
            "outputs": [
                {
                    "execution_count": 65, 
                    "metadata": {}, 
                    "data": {
                        "text/html": "<div>\n<style scoped>\n    .dataframe tbody tr th:only-of-type {\n        vertical-align: middle;\n    }\n\n    .dataframe tbody tr th {\n        vertical-align: top;\n    }\n\n    .dataframe thead th {\n        text-align: right;\n    }\n</style>\n<table border=\"1\" class=\"dataframe\">\n  <thead>\n    <tr style=\"text-align: right;\">\n      <th></th>\n      <th>Neighborhood</th>\n      <th>Neighborhood Latitude</th>\n      <th>Neighborhood Longitude</th>\n      <th>Venue</th>\n      <th>Venue Latitude</th>\n      <th>Venue Longitude</th>\n      <th>Venue Category</th>\n    </tr>\n  </thead>\n  <tbody>\n    <tr>\n      <th>0</th>\n      <td>Belgravia</td>\n      <td>51.49713</td>\n      <td>-0.13829</td>\n      <td>Taj  51 Buckingham Gate Suites &amp; Residences</td>\n      <td>51.498598</td>\n      <td>-0.137404</td>\n      <td>Hotel</td>\n    </tr>\n    <tr>\n      <th>1</th>\n      <td>Belgravia</td>\n      <td>51.49713</td>\n      <td>-0.13829</td>\n      <td>Curzon Victoria</td>\n      <td>51.497473</td>\n      <td>-0.136744</td>\n      <td>Movie Theater</td>\n    </tr>\n    <tr>\n      <th>2</th>\n      <td>Belgravia</td>\n      <td>51.49713</td>\n      <td>-0.13829</td>\n      <td>Iris &amp; June</td>\n      <td>51.496791</td>\n      <td>-0.136011</td>\n      <td>Coffee Shop</td>\n    </tr>\n    <tr>\n      <th>3</th>\n      <td>Belgravia</td>\n      <td>51.49713</td>\n      <td>-0.13829</td>\n      <td>Run &amp; Become</td>\n      <td>51.498128</td>\n      <td>-0.135426</td>\n      <td>Sporting Goods Shop</td>\n    </tr>\n    <tr>\n      <th>4</th>\n      <td>Belgravia</td>\n      <td>51.49713</td>\n      <td>-0.13829</td>\n      <td>Quilon</td>\n      <td>51.498772</td>\n      <td>-0.137522</td>\n      <td>Indian Restaurant</td>\n    </tr>\n  </tbody>\n</table>\n</div>", 
                        "text/plain": "  Neighborhood  Neighborhood Latitude  Neighborhood Longitude  \\\n0    Belgravia               51.49713                -0.13829   \n1    Belgravia               51.49713                -0.13829   \n2    Belgravia               51.49713                -0.13829   \n3    Belgravia               51.49713                -0.13829   \n4    Belgravia               51.49713                -0.13829   \n\n                                         Venue  Venue Latitude  \\\n0  Taj  51 Buckingham Gate Suites & Residences       51.498598   \n1                              Curzon Victoria       51.497473   \n2                                  Iris & June       51.496791   \n3                                 Run & Become       51.498128   \n4                                       Quilon       51.498772   \n\n   Venue Longitude       Venue Category  \n0        -0.137404                Hotel  \n1        -0.136744        Movie Theater  \n2        -0.136011          Coffee Shop  \n3        -0.135426  Sporting Goods Shop  \n4        -0.137522    Indian Restaurant  "
                    }, 
                    "output_type": "execute_result"
                }
            ], 
            "source": "sw_venues.head(5)"
        }, 
        {
            "source": "The number of venues returned for each neighbourhoods is then explored as follows", 
            "cell_type": "markdown", 
            "metadata": {}
        }, 
        {
            "execution_count": 66, 
            "cell_type": "code", 
            "metadata": {}, 
            "outputs": [
                {
                    "execution_count": 66, 
                    "metadata": {}, 
                    "data": {
                        "text/html": "<div>\n<style scoped>\n    .dataframe tbody tr th:only-of-type {\n        vertical-align: middle;\n    }\n\n    .dataframe tbody tr th {\n        vertical-align: top;\n    }\n\n    .dataframe thead th {\n        text-align: right;\n    }\n</style>\n<table border=\"1\" class=\"dataframe\">\n  <thead>\n    <tr style=\"text-align: right;\">\n      <th></th>\n      <th>Neighborhood Latitude</th>\n      <th>Neighborhood Longitude</th>\n      <th>Venue</th>\n      <th>Venue Latitude</th>\n      <th>Venue Longitude</th>\n      <th>Venue Category</th>\n    </tr>\n    <tr>\n      <th>Neighborhood</th>\n      <th></th>\n      <th></th>\n      <th></th>\n      <th></th>\n      <th></th>\n      <th></th>\n    </tr>\n  </thead>\n  <tbody>\n    <tr>\n      <th>Belgravia</th>\n      <td>50</td>\n      <td>50</td>\n      <td>50</td>\n      <td>50</td>\n      <td>50</td>\n      <td>50</td>\n    </tr>\n    <tr>\n      <th>Colliers Wood</th>\n      <td>50</td>\n      <td>50</td>\n      <td>50</td>\n      <td>50</td>\n      <td>50</td>\n      <td>50</td>\n    </tr>\n    <tr>\n      <th>Fulham</th>\n      <td>50</td>\n      <td>50</td>\n      <td>50</td>\n      <td>50</td>\n      <td>50</td>\n      <td>50</td>\n    </tr>\n    <tr>\n      <th>Knightsbridge</th>\n      <td>50</td>\n      <td>50</td>\n      <td>50</td>\n      <td>50</td>\n      <td>50</td>\n      <td>50</td>\n    </tr>\n    <tr>\n      <th>Merton Park</th>\n      <td>50</td>\n      <td>50</td>\n      <td>50</td>\n      <td>50</td>\n      <td>50</td>\n      <td>50</td>\n    </tr>\n    <tr>\n      <th>Millbank</th>\n      <td>50</td>\n      <td>50</td>\n      <td>50</td>\n      <td>50</td>\n      <td>50</td>\n      <td>50</td>\n    </tr>\n    <tr>\n      <th>Parsons Green</th>\n      <td>50</td>\n      <td>50</td>\n      <td>50</td>\n      <td>50</td>\n      <td>50</td>\n      <td>50</td>\n    </tr>\n    <tr>\n      <th>Pimlico</th>\n      <td>50</td>\n      <td>50</td>\n      <td>50</td>\n      <td>50</td>\n      <td>50</td>\n      <td>50</td>\n    </tr>\n    <tr>\n      <th>Raynes Park</th>\n      <td>32</td>\n      <td>32</td>\n      <td>32</td>\n      <td>32</td>\n      <td>32</td>\n      <td>32</td>\n    </tr>\n    <tr>\n      <th>Sands End</th>\n      <td>50</td>\n      <td>50</td>\n      <td>50</td>\n      <td>50</td>\n      <td>50</td>\n      <td>50</td>\n    </tr>\n    <tr>\n      <th>South Wimbledon</th>\n      <td>50</td>\n      <td>50</td>\n      <td>50</td>\n      <td>50</td>\n      <td>50</td>\n      <td>50</td>\n    </tr>\n    <tr>\n      <th>St James's</th>\n      <td>50</td>\n      <td>50</td>\n      <td>50</td>\n      <td>50</td>\n      <td>50</td>\n      <td>50</td>\n    </tr>\n    <tr>\n      <th>Westminster</th>\n      <td>50</td>\n      <td>50</td>\n      <td>50</td>\n      <td>50</td>\n      <td>50</td>\n      <td>50</td>\n    </tr>\n    <tr>\n      <th>Wimbledon</th>\n      <td>82</td>\n      <td>82</td>\n      <td>82</td>\n      <td>82</td>\n      <td>82</td>\n      <td>82</td>\n    </tr>\n  </tbody>\n</table>\n</div>", 
                        "text/plain": "                 Neighborhood Latitude  Neighborhood Longitude  Venue  \\\nNeighborhood                                                            \nBelgravia                           50                      50     50   \nColliers Wood                       50                      50     50   \nFulham                              50                      50     50   \nKnightsbridge                       50                      50     50   \nMerton Park                         50                      50     50   \nMillbank                            50                      50     50   \nParsons Green                       50                      50     50   \nPimlico                             50                      50     50   \nRaynes Park                         32                      32     32   \nSands End                           50                      50     50   \nSouth Wimbledon                     50                      50     50   \nSt James's                          50                      50     50   \nWestminster                         50                      50     50   \nWimbledon                           82                      82     82   \n\n                 Venue Latitude  Venue Longitude  Venue Category  \nNeighborhood                                                      \nBelgravia                    50               50              50  \nColliers Wood                50               50              50  \nFulham                       50               50              50  \nKnightsbridge                50               50              50  \nMerton Park                  50               50              50  \nMillbank                     50               50              50  \nParsons Green                50               50              50  \nPimlico                      50               50              50  \nRaynes Park                  32               32              32  \nSands End                    50               50              50  \nSouth Wimbledon              50               50              50  \nSt James's                   50               50              50  \nWestminster                  50               50              50  \nWimbledon                    82               82              82  "
                    }, 
                    "output_type": "execute_result"
                }
            ], 
            "source": "sw_venues.groupby('Neighborhood').count()"
        }, 
        {
            "source": "Then we check how many unique categories all the returned venues. See as follows", 
            "cell_type": "markdown", 
            "metadata": {}
        }, 
        {
            "execution_count": 69, 
            "cell_type": "code", 
            "metadata": {}, 
            "outputs": [
                {
                    "output_type": "stream", 
                    "name": "stdout", 
                    "text": "There are 79 uniques categories.\n"
                }
            ], 
            "source": "print('There are {} uniques categories.'.format(len(sw_venues['Venue Category'].unique())))"
        }, 
        {
            "execution_count": 70, 
            "cell_type": "code", 
            "metadata": {}, 
            "outputs": [], 
            "source": "sw_venue_unique_count = sw_venues['Venue Category'].value_counts().to_frame(name='Count')"
        }, 
        {
            "execution_count": 71, 
            "cell_type": "code", 
            "metadata": {}, 
            "outputs": [
                {
                    "execution_count": 71, 
                    "metadata": {}, 
                    "data": {
                        "text/html": "<div>\n<style scoped>\n    .dataframe tbody tr th:only-of-type {\n        vertical-align: middle;\n    }\n\n    .dataframe tbody tr th {\n        vertical-align: top;\n    }\n\n    .dataframe thead th {\n        text-align: right;\n    }\n</style>\n<table border=\"1\" class=\"dataframe\">\n  <thead>\n    <tr style=\"text-align: right;\">\n      <th></th>\n      <th>Count</th>\n    </tr>\n  </thead>\n  <tbody>\n    <tr>\n      <th>Coffee Shop</th>\n      <td>59</td>\n    </tr>\n    <tr>\n      <th>Hotel</th>\n      <td>38</td>\n    </tr>\n    <tr>\n      <th>Sushi Restaurant</th>\n      <td>28</td>\n    </tr>\n    <tr>\n      <th>Pub</th>\n      <td>27</td>\n    </tr>\n    <tr>\n      <th>Theater</th>\n      <td>24</td>\n    </tr>\n  </tbody>\n</table>\n</div>", 
                        "text/plain": "                  Count\nCoffee Shop          59\nHotel                38\nSushi Restaurant     28\nPub                  27\nTheater              24"
                    }, 
                    "output_type": "execute_result"
                }
            ], 
            "source": "sw_venue_unique_count.head()"
        }, 
        {
            "source": "### 3.2 Clustering", 
            "cell_type": "markdown", 
            "metadata": {}
        }, 
        {
            "execution_count": 75, 
            "cell_type": "code", 
            "metadata": {}, 
            "outputs": [
                {
                    "output_type": "stream", 
                    "name": "stdout", 
                    "text": "The geograpical coordinate of London are 51.5073219, -0.1276474.\n"
                }
            ], 
            "source": "address = 'London, United Kingdom'\ngeolocator = Nominatim(user_agent=\"ln_explorer\")\nlocation = geolocator.geocode(address)\nlatitude = location.latitude\nlongitude = location.longitude\nprint('The geograpical coordinate of London are {}, {}.'.format(latitude, longitude))"
        }, 
        {
            "execution_count": 76, 
            "cell_type": "code", 
            "metadata": {}, 
            "outputs": [
                {
                    "execution_count": 76, 
                    "metadata": {}, 
                    "data": {
                        "text/html": "<div style=\"width:100%;\"><div style=\"position:relative;width:100%;height:0;padding-bottom:60%;\"><iframe src=\"data:text/html;charset=utf-8;base64,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\" style=\"position:absolute;width:100%;height:100%;left:0;top:0;border:none !important;\" allowfullscreen webkitallowfullscreen mozallowfullscreen></iframe></div></div>", 
                        "text/plain": "<folium.folium.Map at 0x2203fbdd278>"
                    }, 
                    "output_type": "execute_result"
                }
            ], 
            "source": "map_london = folium.Map(location = [latitude, longitude], zoom_start = 12)\nmap_london"
        }, 
        {
            "execution_count": 77, 
            "cell_type": "code", 
            "metadata": {}, 
            "outputs": [
                {
                    "output_type": "display_data", 
                    "data": {
                        "text/html": "<div style=\"width:100%;\"><div style=\"position:relative;width:100%;height:0;padding-bottom:60%;\"><iframe src=\"data:text/html;charset=utf-8;base64,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\" style=\"position:absolute;width:100%;height:100%;left:0;top:0;border:none !important;\" allowfullscreen webkitallowfullscreen mozallowfullscreen></iframe></div></div>", 
                        "text/plain": "<folium.folium.Map at 0x2203fbdd278>"
                    }, 
                    "metadata": {}
                }
            ], 
            "source": "# Adding markers to map\nfor lat, lng, borough, loc in zip(sw_df['Latitude'], \n                                  sw_df['Longitude'],\n                                  sw_df['Borough'],\n                                  sw_df['Location']):\n    label = '{} - {}'.format(loc, borough)\n    label = folium.Popup(label, parse_html=True)\n    folium.CircleMarker(\n        [lat, lng],\n        radius=5,\n        popup=label,\n        color='blue',\n        fill=True,\n        fill_color='#3186cc',\n        fill_opacity=0.7).add_to(map_london)  \n    \ndisplay(map_london)"
        }, 
        {
            "source": "We  see four points which corresponds to our four postcodes that we want to analize.", 
            "cell_type": "markdown", 
            "metadata": {}
        }, 
        {
            "execution_count": 79, 
            "cell_type": "code", 
            "metadata": {}, 
            "outputs": [
                {
                    "execution_count": 79, 
                    "metadata": {}, 
                    "data": {
                        "text/html": "<div>\n<style scoped>\n    .dataframe tbody tr th:only-of-type {\n        vertical-align: middle;\n    }\n\n    .dataframe tbody tr th {\n        vertical-align: top;\n    }\n\n    .dataframe thead th {\n        text-align: right;\n    }\n</style>\n<table border=\"1\" class=\"dataframe\">\n  <thead>\n    <tr style=\"text-align: right;\">\n      <th></th>\n      <th>Location</th>\n      <th>Borough</th>\n      <th>Postcode</th>\n      <th>Latitude</th>\n      <th>Longitude</th>\n    </tr>\n  </thead>\n  <tbody>\n    <tr>\n      <th>0</th>\n      <td>Belgravia</td>\n      <td>Westminster</td>\n      <td>SW1</td>\n      <td>51.49713</td>\n      <td>-0.13829</td>\n    </tr>\n    <tr>\n      <th>1</th>\n      <td>Colliers Wood</td>\n      <td>Merton</td>\n      <td>SW19</td>\n      <td>51.42170</td>\n      <td>-0.20796</td>\n    </tr>\n    <tr>\n      <th>2</th>\n      <td>Fulham</td>\n      <td>Hammersmith and Fulham</td>\n      <td>SW6</td>\n      <td>51.47772</td>\n      <td>-0.20145</td>\n    </tr>\n    <tr>\n      <th>3</th>\n      <td>Knightsbridge</td>\n      <td>Westminster</td>\n      <td>SW1</td>\n      <td>51.49713</td>\n      <td>-0.13829</td>\n    </tr>\n    <tr>\n      <th>4</th>\n      <td>Merton Park</td>\n      <td>Merton</td>\n      <td>SW19</td>\n      <td>51.42170</td>\n      <td>-0.20796</td>\n    </tr>\n    <tr>\n      <th>5</th>\n      <td>Millbank</td>\n      <td>Westminster</td>\n      <td>SW1</td>\n      <td>51.49713</td>\n      <td>-0.13829</td>\n    </tr>\n    <tr>\n      <th>6</th>\n      <td>Parsons Green</td>\n      <td>Hammersmith and Fulham</td>\n      <td>SW6</td>\n      <td>51.47772</td>\n      <td>-0.20145</td>\n    </tr>\n    <tr>\n      <th>7</th>\n      <td>Pimlico</td>\n      <td>Westminster</td>\n      <td>SW1</td>\n      <td>51.49713</td>\n      <td>-0.13829</td>\n    </tr>\n    <tr>\n      <th>8</th>\n      <td>Raynes Park</td>\n      <td>Merton</td>\n      <td>SW20</td>\n      <td>51.41117</td>\n      <td>-0.22623</td>\n    </tr>\n    <tr>\n      <th>9</th>\n      <td>Sands End</td>\n      <td>Hammersmith and Fulham</td>\n      <td>SW6</td>\n      <td>51.47772</td>\n      <td>-0.20145</td>\n    </tr>\n    <tr>\n      <th>10</th>\n      <td>South Wimbledon</td>\n      <td>Merton</td>\n      <td>SW19</td>\n      <td>51.42170</td>\n      <td>-0.20796</td>\n    </tr>\n    <tr>\n      <th>11</th>\n      <td>St James's</td>\n      <td>Westminster</td>\n      <td>SW1</td>\n      <td>51.49713</td>\n      <td>-0.13829</td>\n    </tr>\n    <tr>\n      <th>12</th>\n      <td>Westminster</td>\n      <td>Westminster</td>\n      <td>SW1</td>\n      <td>51.49713</td>\n      <td>-0.13829</td>\n    </tr>\n    <tr>\n      <th>13</th>\n      <td>Wimbledon</td>\n      <td>Merton</td>\n      <td>SW19</td>\n      <td>51.42170</td>\n      <td>-0.20796</td>\n    </tr>\n    <tr>\n      <th>14</th>\n      <td>Wimbledon</td>\n      <td>Merton</td>\n      <td>SW20</td>\n      <td>51.41117</td>\n      <td>-0.22623</td>\n    </tr>\n  </tbody>\n</table>\n</div>", 
                        "text/plain": "           Location                 Borough Postcode  Latitude  Longitude\n0         Belgravia             Westminster      SW1  51.49713   -0.13829\n1     Colliers Wood                  Merton     SW19  51.42170   -0.20796\n2            Fulham  Hammersmith and Fulham      SW6  51.47772   -0.20145\n3     Knightsbridge             Westminster      SW1  51.49713   -0.13829\n4       Merton Park                  Merton     SW19  51.42170   -0.20796\n5          Millbank             Westminster      SW1  51.49713   -0.13829\n6     Parsons Green  Hammersmith and Fulham      SW6  51.47772   -0.20145\n7           Pimlico             Westminster      SW1  51.49713   -0.13829\n8       Raynes Park                  Merton     SW20  51.41117   -0.22623\n9         Sands End  Hammersmith and Fulham      SW6  51.47772   -0.20145\n10  South Wimbledon                  Merton     SW19  51.42170   -0.20796\n11       St James's             Westminster      SW1  51.49713   -0.13829\n12      Westminster             Westminster      SW1  51.49713   -0.13829\n13        Wimbledon                  Merton     SW19  51.42170   -0.20796\n14        Wimbledon                  Merton     SW20  51.41117   -0.22623"
                    }, 
                    "output_type": "execute_result"
                }
            ], 
            "source": "sw_df"
        }, 
        {
            "source": "### 4. Data analysis\n\nIn this section, the objective is to check and explore the venues in each neighbourhood.", 
            "cell_type": "markdown", 
            "metadata": {}
        }, 
        {
            "execution_count": 81, 
            "cell_type": "code", 
            "metadata": {}, 
            "outputs": [], 
            "source": "# one hot encoding\nsw_onehot = pd.get_dummies(sw_venues[['Venue Category']], prefix = \"\", prefix_sep = \"\")"
        }, 
        {
            "source": "Then the Neighbourhoodcolumn is added back to the dataframe.", 
            "cell_type": "markdown", 
            "metadata": {}
        }, 
        {
            "execution_count": 82, 
            "cell_type": "code", 
            "metadata": {}, 
            "outputs": [], 
            "source": "# add neighborhood column back to dataframe\nsw_onehot['Neighborhood'] = sw_venues['Neighborhood']"
        }, 
        {
            "execution_count": 83, 
            "cell_type": "code", 
            "metadata": {}, 
            "outputs": [], 
            "source": "# move neighborhood column to the first column\nfixed_columns = [sw_onehot.columns[-1]] + list(sw_onehot.columns[:-1])\nsw_onehot = sw_onehot[fixed_columns]"
        }, 
        {
            "execution_count": 84, 
            "cell_type": "code", 
            "metadata": {}, 
            "outputs": [
                {
                    "execution_count": 84, 
                    "metadata": {}, 
                    "data": {
                        "text/html": "<div>\n<style scoped>\n    .dataframe tbody tr th:only-of-type {\n        vertical-align: middle;\n    }\n\n    .dataframe tbody tr th {\n        vertical-align: top;\n    }\n\n    .dataframe thead th {\n        text-align: right;\n    }\n</style>\n<table border=\"1\" class=\"dataframe\">\n  <thead>\n    <tr style=\"text-align: right;\">\n      <th></th>\n      <th>Neighborhood</th>\n      <th>Argentinian Restaurant</th>\n      <th>Art Gallery</th>\n      <th>Asian Restaurant</th>\n      <th>Auto Garage</th>\n      <th>BBQ Joint</th>\n      <th>Bakery</th>\n      <th>Bar</th>\n      <th>Bistro</th>\n      <th>Bookstore</th>\n      <th>Brazilian Restaurant</th>\n      <th>Breakfast Spot</th>\n      <th>Burger Joint</th>\n      <th>Burrito Place</th>\n      <th>Bus Stop</th>\n      <th>Caf\u00e9</th>\n      <th>Chinese Restaurant</th>\n      <th>Chocolate Shop</th>\n      <th>Climbing Gym</th>\n      <th>Clothing Store</th>\n      <th>Cocktail Bar</th>\n      <th>Coffee Shop</th>\n      <th>Creperie</th>\n      <th>Cycle Studio</th>\n      <th>Department Store</th>\n      <th>Diner</th>\n      <th>English Restaurant</th>\n      <th>Falafel Restaurant</th>\n      <th>Fast Food Restaurant</th>\n      <th>Fish &amp; Chips Shop</th>\n      <th>French Restaurant</th>\n      <th>Fried Chicken Joint</th>\n      <th>Gastropub</th>\n      <th>Grocery Store</th>\n      <th>Gym</th>\n      <th>Gym / Fitness Center</th>\n      <th>Historic Site</th>\n      <th>Hotel</th>\n      <th>Hotel Bar</th>\n      <th>Ice Cream Shop</th>\n      <th>Indian Restaurant</th>\n      <th>Italian Restaurant</th>\n      <th>Japanese Restaurant</th>\n      <th>Juice Bar</th>\n      <th>Korean Restaurant</th>\n      <th>Market</th>\n      <th>Mediterranean Restaurant</th>\n      <th>Mexican Restaurant</th>\n      <th>Middle Eastern Restaurant</th>\n      <th>Modern European Restaurant</th>\n      <th>Movie Theater</th>\n      <th>Multiplex</th>\n      <th>Optical Shop</th>\n      <th>Park</th>\n      <th>Pedestrian Plaza</th>\n      <th>Pharmacy</th>\n      <th>Pizza Place</th>\n      <th>Platform</th>\n      <th>Pub</th>\n      <th>Restaurant</th>\n      <th>Salad Place</th>\n      <th>Sandwich Place</th>\n      <th>Scenic Lookout</th>\n      <th>Spa</th>\n      <th>Sporting Goods Shop</th>\n      <th>Stationery Store</th>\n      <th>Steakhouse</th>\n      <th>Street Food Gathering</th>\n      <th>Supermarket</th>\n      <th>Sushi Restaurant</th>\n      <th>Tea Room</th>\n      <th>Thai Restaurant</th>\n      <th>Theater</th>\n      <th>Trail</th>\n      <th>Vegetarian / Vegan Restaurant</th>\n      <th>Video Game Store</th>\n      <th>Vietnamese Restaurant</th>\n      <th>Wine Bar</th>\n      <th>Wine Shop</th>\n      <th>Yoga Studio</th>\n    </tr>\n  </thead>\n  <tbody>\n    <tr>\n      <th>0</th>\n      <td>Belgravia</td>\n      <td>0</td>\n      <td>0</td>\n      <td>0</td>\n      <td>0</td>\n      <td>0</td>\n      <td>0</td>\n      <td>0</td>\n      <td>0</td>\n      <td>0</td>\n      <td>0</td>\n      <td>0</td>\n      <td>0</td>\n      <td>0</td>\n      <td>0</td>\n      <td>0</td>\n      <td>0</td>\n      <td>0</td>\n      <td>0</td>\n      <td>0</td>\n      <td>0</td>\n      <td>0</td>\n      <td>0</td>\n      <td>0</td>\n      <td>0</td>\n      <td>0</td>\n      <td>0</td>\n      <td>0</td>\n      <td>0</td>\n      <td>0</td>\n      <td>0</td>\n      <td>0</td>\n      <td>0</td>\n      <td>0</td>\n      <td>0</td>\n      <td>0</td>\n      <td>0</td>\n      <td>1</td>\n      <td>0</td>\n      <td>0</td>\n      <td>0</td>\n      <td>0</td>\n      <td>0</td>\n      <td>0</td>\n      <td>0</td>\n      <td>0</td>\n      <td>0</td>\n      <td>0</td>\n      <td>0</td>\n      <td>0</td>\n      <td>0</td>\n      <td>0</td>\n      <td>0</td>\n      <td>0</td>\n      <td>0</td>\n      <td>0</td>\n      <td>0</td>\n      <td>0</td>\n      <td>0</td>\n      <td>0</td>\n      <td>0</td>\n      <td>0</td>\n      <td>0</td>\n      <td>0</td>\n      <td>0</td>\n      <td>0</td>\n      <td>0</td>\n      <td>0</td>\n      <td>0</td>\n      <td>0</td>\n      <td>0</td>\n      <td>0</td>\n      <td>0</td>\n      <td>0</td>\n      <td>0</td>\n      <td>0</td>\n      <td>0</td>\n      <td>0</td>\n      <td>0</td>\n      <td>0</td>\n    </tr>\n    <tr>\n      <th>1</th>\n      <td>Belgravia</td>\n      <td>0</td>\n      <td>0</td>\n      <td>0</td>\n      <td>0</td>\n      <td>0</td>\n      <td>0</td>\n      <td>0</td>\n      <td>0</td>\n      <td>0</td>\n      <td>0</td>\n      <td>0</td>\n      <td>0</td>\n      <td>0</td>\n      <td>0</td>\n      <td>0</td>\n      <td>0</td>\n      <td>0</td>\n      <td>0</td>\n      <td>0</td>\n      <td>0</td>\n      <td>0</td>\n      <td>0</td>\n      <td>0</td>\n      <td>0</td>\n      <td>0</td>\n      <td>0</td>\n      <td>0</td>\n      <td>0</td>\n      <td>0</td>\n      <td>0</td>\n      <td>0</td>\n      <td>0</td>\n      <td>0</td>\n      <td>0</td>\n      <td>0</td>\n      <td>0</td>\n      <td>0</td>\n      <td>0</td>\n      <td>0</td>\n      <td>0</td>\n      <td>0</td>\n      <td>0</td>\n      <td>0</td>\n      <td>0</td>\n      <td>0</td>\n      <td>0</td>\n      <td>0</td>\n      <td>0</td>\n      <td>0</td>\n      <td>1</td>\n      <td>0</td>\n      <td>0</td>\n      <td>0</td>\n      <td>0</td>\n      <td>0</td>\n      <td>0</td>\n      <td>0</td>\n      <td>0</td>\n      <td>0</td>\n      <td>0</td>\n      <td>0</td>\n      <td>0</td>\n      <td>0</td>\n      <td>0</td>\n      <td>0</td>\n      <td>0</td>\n      <td>0</td>\n      <td>0</td>\n      <td>0</td>\n      <td>0</td>\n      <td>0</td>\n      <td>0</td>\n      <td>0</td>\n      <td>0</td>\n      <td>0</td>\n      <td>0</td>\n      <td>0</td>\n      <td>0</td>\n      <td>0</td>\n    </tr>\n    <tr>\n      <th>2</th>\n      <td>Belgravia</td>\n      <td>0</td>\n      <td>0</td>\n      <td>0</td>\n      <td>0</td>\n      <td>0</td>\n      <td>0</td>\n      <td>0</td>\n      <td>0</td>\n      <td>0</td>\n      <td>0</td>\n      <td>0</td>\n      <td>0</td>\n      <td>0</td>\n      <td>0</td>\n      <td>0</td>\n      <td>0</td>\n      <td>0</td>\n      <td>0</td>\n      <td>0</td>\n      <td>0</td>\n      <td>1</td>\n      <td>0</td>\n      <td>0</td>\n      <td>0</td>\n      <td>0</td>\n      <td>0</td>\n      <td>0</td>\n      <td>0</td>\n      <td>0</td>\n      <td>0</td>\n      <td>0</td>\n      <td>0</td>\n      <td>0</td>\n      <td>0</td>\n      <td>0</td>\n      <td>0</td>\n      <td>0</td>\n      <td>0</td>\n      <td>0</td>\n      <td>0</td>\n      <td>0</td>\n      <td>0</td>\n      <td>0</td>\n      <td>0</td>\n      <td>0</td>\n      <td>0</td>\n      <td>0</td>\n      <td>0</td>\n      <td>0</td>\n      <td>0</td>\n      <td>0</td>\n      <td>0</td>\n      <td>0</td>\n      <td>0</td>\n      <td>0</td>\n      <td>0</td>\n      <td>0</td>\n      <td>0</td>\n      <td>0</td>\n      <td>0</td>\n      <td>0</td>\n      <td>0</td>\n      <td>0</td>\n      <td>0</td>\n      <td>0</td>\n      <td>0</td>\n      <td>0</td>\n      <td>0</td>\n      <td>0</td>\n      <td>0</td>\n      <td>0</td>\n      <td>0</td>\n      <td>0</td>\n      <td>0</td>\n      <td>0</td>\n      <td>0</td>\n      <td>0</td>\n      <td>0</td>\n      <td>0</td>\n    </tr>\n    <tr>\n      <th>3</th>\n      <td>Belgravia</td>\n      <td>0</td>\n      <td>0</td>\n      <td>0</td>\n      <td>0</td>\n      <td>0</td>\n      <td>0</td>\n      <td>0</td>\n      <td>0</td>\n      <td>0</td>\n      <td>0</td>\n      <td>0</td>\n      <td>0</td>\n      <td>0</td>\n      <td>0</td>\n      <td>0</td>\n      <td>0</td>\n      <td>0</td>\n      <td>0</td>\n      <td>0</td>\n      <td>0</td>\n      <td>0</td>\n      <td>0</td>\n      <td>0</td>\n      <td>0</td>\n      <td>0</td>\n      <td>0</td>\n      <td>0</td>\n      <td>0</td>\n      <td>0</td>\n      <td>0</td>\n      <td>0</td>\n      <td>0</td>\n      <td>0</td>\n      <td>0</td>\n      <td>0</td>\n      <td>0</td>\n      <td>0</td>\n      <td>0</td>\n      <td>0</td>\n      <td>0</td>\n      <td>0</td>\n      <td>0</td>\n      <td>0</td>\n      <td>0</td>\n      <td>0</td>\n      <td>0</td>\n      <td>0</td>\n      <td>0</td>\n      <td>0</td>\n      <td>0</td>\n      <td>0</td>\n      <td>0</td>\n      <td>0</td>\n      <td>0</td>\n      <td>0</td>\n      <td>0</td>\n      <td>0</td>\n      <td>0</td>\n      <td>0</td>\n      <td>0</td>\n      <td>0</td>\n      <td>0</td>\n      <td>0</td>\n      <td>1</td>\n      <td>0</td>\n      <td>0</td>\n      <td>0</td>\n      <td>0</td>\n      <td>0</td>\n      <td>0</td>\n      <td>0</td>\n      <td>0</td>\n      <td>0</td>\n      <td>0</td>\n      <td>0</td>\n      <td>0</td>\n      <td>0</td>\n      <td>0</td>\n      <td>0</td>\n    </tr>\n    <tr>\n      <th>4</th>\n      <td>Belgravia</td>\n      <td>0</td>\n      <td>0</td>\n      <td>0</td>\n      <td>0</td>\n      <td>0</td>\n      <td>0</td>\n      <td>0</td>\n      <td>0</td>\n      <td>0</td>\n      <td>0</td>\n      <td>0</td>\n      <td>0</td>\n      <td>0</td>\n      <td>0</td>\n      <td>0</td>\n      <td>0</td>\n      <td>0</td>\n      <td>0</td>\n      <td>0</td>\n      <td>0</td>\n      <td>0</td>\n      <td>0</td>\n      <td>0</td>\n      <td>0</td>\n      <td>0</td>\n      <td>0</td>\n      <td>0</td>\n      <td>0</td>\n      <td>0</td>\n      <td>0</td>\n      <td>0</td>\n      <td>0</td>\n      <td>0</td>\n      <td>0</td>\n      <td>0</td>\n      <td>0</td>\n      <td>0</td>\n      <td>0</td>\n      <td>0</td>\n      <td>1</td>\n      <td>0</td>\n      <td>0</td>\n      <td>0</td>\n      <td>0</td>\n      <td>0</td>\n      <td>0</td>\n      <td>0</td>\n      <td>0</td>\n      <td>0</td>\n      <td>0</td>\n      <td>0</td>\n      <td>0</td>\n      <td>0</td>\n      <td>0</td>\n      <td>0</td>\n      <td>0</td>\n      <td>0</td>\n      <td>0</td>\n      <td>0</td>\n      <td>0</td>\n      <td>0</td>\n      <td>0</td>\n      <td>0</td>\n      <td>0</td>\n      <td>0</td>\n      <td>0</td>\n      <td>0</td>\n      <td>0</td>\n      <td>0</td>\n      <td>0</td>\n      <td>0</td>\n      <td>0</td>\n      <td>0</td>\n      <td>0</td>\n      <td>0</td>\n      <td>0</td>\n      <td>0</td>\n      <td>0</td>\n      <td>0</td>\n    </tr>\n  </tbody>\n</table>\n</div>", 
                        "text/plain": "  Neighborhood  Argentinian Restaurant  Art Gallery  Asian Restaurant  \\\n0    Belgravia                       0            0                 0   \n1    Belgravia                       0            0                 0   \n2    Belgravia                       0            0                 0   \n3    Belgravia                       0            0                 0   \n4    Belgravia                       0            0                 0   \n\n   Auto Garage  BBQ Joint  Bakery  Bar  Bistro  Bookstore  \\\n0            0          0       0    0       0          0   \n1            0          0       0    0       0          0   \n2            0          0       0    0       0          0   \n3            0          0       0    0       0          0   \n4            0          0       0    0       0          0   \n\n   Brazilian Restaurant  Breakfast Spot  Burger Joint  Burrito Place  \\\n0                     0               0             0              0   \n1                     0               0             0              0   \n2                     0               0             0              0   \n3                     0               0             0              0   \n4                     0               0             0              0   \n\n   Bus Stop  Caf\u00e9  Chinese Restaurant  Chocolate Shop  Climbing Gym  \\\n0         0     0                   0               0             0   \n1         0     0                   0               0             0   \n2         0     0                   0               0             0   \n3         0     0                   0               0             0   \n4         0     0                   0               0             0   \n\n   Clothing Store  Cocktail Bar  Coffee Shop  Creperie  Cycle Studio  \\\n0               0             0            0         0             0   \n1               0             0            0         0             0   \n2               0             0            1         0             0   \n3               0             0            0         0             0   \n4               0             0            0         0             0   \n\n   Department Store  Diner  English Restaurant  Falafel Restaurant  \\\n0                 0      0                   0                   0   \n1                 0      0                   0                   0   \n2                 0      0                   0                   0   \n3                 0      0                   0                   0   \n4                 0      0                   0                   0   \n\n   Fast Food Restaurant  Fish & Chips Shop  French Restaurant  \\\n0                     0                  0                  0   \n1                     0                  0                  0   \n2                     0                  0                  0   \n3                     0                  0                  0   \n4                     0                  0                  0   \n\n   Fried Chicken Joint  Gastropub  Grocery Store  Gym  Gym / Fitness Center  \\\n0                    0          0              0    0                     0   \n1                    0          0              0    0                     0   \n2                    0          0              0    0                     0   \n3                    0          0              0    0                     0   \n4                    0          0              0    0                     0   \n\n   Historic Site  Hotel  Hotel Bar  Ice Cream Shop  Indian Restaurant  \\\n0              0      1          0               0                  0   \n1              0      0          0               0                  0   \n2              0      0          0               0                  0   \n3              0      0          0               0                  0   \n4              0      0          0               0                  1   \n\n   Italian Restaurant  Japanese Restaurant  Juice Bar  Korean Restaurant  \\\n0                   0                    0          0                  0   \n1                   0                    0          0                  0   \n2                   0                    0          0                  0   \n3                   0                    0          0                  0   \n4                   0                    0          0                  0   \n\n   Market  Mediterranean Restaurant  Mexican Restaurant  \\\n0       0                         0                   0   \n1       0                         0                   0   \n2       0                         0                   0   \n3       0                         0                   0   \n4       0                         0                   0   \n\n   Middle Eastern Restaurant  Modern European Restaurant  Movie Theater  \\\n0                          0                           0              0   \n1                          0                           0              1   \n2                          0                           0              0   \n3                          0                           0              0   \n4                          0                           0              0   \n\n   Multiplex  Optical Shop  Park  Pedestrian Plaza  Pharmacy  Pizza Place  \\\n0          0             0     0                 0         0            0   \n1          0             0     0                 0         0            0   \n2          0             0     0                 0         0            0   \n3          0             0     0                 0         0            0   \n4          0             0     0                 0         0            0   \n\n   Platform  Pub  Restaurant  Salad Place  Sandwich Place  Scenic Lookout  \\\n0         0    0           0            0               0               0   \n1         0    0           0            0               0               0   \n2         0    0           0            0               0               0   \n3         0    0           0            0               0               0   \n4         0    0           0            0               0               0   \n\n   Spa  Sporting Goods Shop  Stationery Store  Steakhouse  \\\n0    0                    0                 0           0   \n1    0                    0                 0           0   \n2    0                    0                 0           0   \n3    0                    1                 0           0   \n4    0                    0                 0           0   \n\n   Street Food Gathering  Supermarket  Sushi Restaurant  Tea Room  \\\n0                      0            0                 0         0   \n1                      0            0                 0         0   \n2                      0            0                 0         0   \n3                      0            0                 0         0   \n4                      0            0                 0         0   \n\n   Thai Restaurant  Theater  Trail  Vegetarian / Vegan Restaurant  \\\n0                0        0      0                              0   \n1                0        0      0                              0   \n2                0        0      0                              0   \n3                0        0      0                              0   \n4                0        0      0                              0   \n\n   Video Game Store  Vietnamese Restaurant  Wine Bar  Wine Shop  Yoga Studio  \n0                 0                      0         0          0            0  \n1                 0                      0         0          0            0  \n2                 0                      0         0          0            0  \n3                 0                      0         0          0            0  \n4                 0                      0         0          0            0  "
                    }, 
                    "output_type": "execute_result"
                }
            ], 
            "source": "sw_onehot.head(5)"
        }, 
        {
            "execution_count": 85, 
            "cell_type": "code", 
            "metadata": {}, 
            "outputs": [], 
            "source": "# To check the Bakery:\n"
        }, 
        {
            "execution_count": 86, 
            "cell_type": "code", 
            "metadata": {}, 
            "outputs": [], 
            "source": "#sw_onehot.loc[sw_onehot['Bakery'] != 0]\n"
        }, 
        {
            "source": "Regrouping and Category Statistics\n", 
            "cell_type": "markdown", 
            "metadata": {}
        }, 
        {
            "execution_count": 87, 
            "cell_type": "code", 
            "metadata": {}, 
            "outputs": [], 
            "source": "sw_grouped = sw_onehot.groupby('Neighborhood').mean().reset_index()\n"
        }, 
        {
            "source": "Grouping of each Neighbourhoods with 10 common venues:\n", 
            "cell_type": "markdown", 
            "metadata": {}
        }, 
        {
            "execution_count": 88, 
            "cell_type": "code", 
            "metadata": {}, 
            "outputs": [
                {
                    "output_type": "stream", 
                    "name": "stdout", 
                    "text": "----Belgravia----\n                  venue  freq\n0                 Hotel  0.12\n1           Coffee Shop  0.08\n2               Theater  0.08\n3        Sandwich Place  0.06\n4             Juice Bar  0.04\n5      Sushi Restaurant  0.04\n6  Gym / Fitness Center  0.02\n7    Falafel Restaurant  0.02\n8  Fast Food Restaurant  0.02\n9     French Restaurant  0.02\n\n\n----Colliers Wood----\n                  venue  freq\n0      Sushi Restaurant  0.08\n1           Coffee Shop  0.08\n2                   Pub  0.08\n3                   Bar  0.06\n4     Indian Restaurant  0.04\n5      Stationery Store  0.04\n6          Burger Joint  0.04\n7         Grocery Store  0.04\n8           Pizza Place  0.02\n9  Gym / Fitness Center  0.02\n\n\n----Fulham----\n                venue  freq\n0                Caf\u00e9  0.12\n1         Coffee Shop  0.10\n2                 Pub  0.06\n3  Italian Restaurant  0.06\n4         Yoga Studio  0.04\n5                Park  0.04\n6       Grocery Store  0.04\n7           Gastropub  0.04\n8   French Restaurant  0.04\n9        Climbing Gym  0.04\n\n\n----Knightsbridge----\n                  venue  freq\n0                 Hotel  0.12\n1           Coffee Shop  0.08\n2               Theater  0.08\n3        Sandwich Place  0.06\n4             Juice Bar  0.04\n5      Sushi Restaurant  0.04\n6  Gym / Fitness Center  0.02\n7    Falafel Restaurant  0.02\n8  Fast Food Restaurant  0.02\n9     French Restaurant  0.02\n\n\n----Merton Park----\n                  venue  freq\n0      Sushi Restaurant  0.08\n1           Coffee Shop  0.08\n2                   Pub  0.08\n3                   Bar  0.06\n4     Indian Restaurant  0.04\n5      Stationery Store  0.04\n6          Burger Joint  0.04\n7         Grocery Store  0.04\n8           Pizza Place  0.02\n9  Gym / Fitness Center  0.02\n\n\n----Millbank----\n                  venue  freq\n0                 Hotel  0.12\n1           Coffee Shop  0.08\n2               Theater  0.08\n3        Sandwich Place  0.06\n4             Juice Bar  0.04\n5      Sushi Restaurant  0.04\n6  Gym / Fitness Center  0.02\n7    Falafel Restaurant  0.02\n8  Fast Food Restaurant  0.02\n9     French Restaurant  0.02\n\n\n----Parsons Green----\n                venue  freq\n0                Caf\u00e9  0.12\n1         Coffee Shop  0.10\n2                 Pub  0.06\n3  Italian Restaurant  0.06\n4         Yoga Studio  0.04\n5                Park  0.04\n6       Grocery Store  0.04\n7           Gastropub  0.04\n8   French Restaurant  0.04\n9        Climbing Gym  0.04\n\n\n----Pimlico----\n                  venue  freq\n0                 Hotel  0.12\n1           Coffee Shop  0.08\n2               Theater  0.08\n3        Sandwich Place  0.06\n4             Juice Bar  0.04\n5      Sushi Restaurant  0.04\n6  Gym / Fitness Center  0.02\n7    Falafel Restaurant  0.02\n8  Fast Food Restaurant  0.02\n9     French Restaurant  0.02\n\n\n----Raynes Park----\n                  venue  freq\n0              Bus Stop  0.12\n1              Platform  0.09\n2     Indian Restaurant  0.06\n3  Fast Food Restaurant  0.06\n4         Grocery Store  0.06\n5           Coffee Shop  0.06\n6              Pharmacy  0.06\n7                   Pub  0.03\n8  Gym / Fitness Center  0.03\n9                 Hotel  0.03\n\n\n----Sands End----\n                venue  freq\n0                Caf\u00e9  0.12\n1         Coffee Shop  0.10\n2                 Pub  0.06\n3  Italian Restaurant  0.06\n4         Yoga Studio  0.04\n5                Park  0.04\n6       Grocery Store  0.04\n7           Gastropub  0.04\n8   French Restaurant  0.04\n9        Climbing Gym  0.04\n\n\n----South Wimbledon----\n                  venue  freq\n0      Sushi Restaurant  0.08\n1           Coffee Shop  0.08\n2                   Pub  0.08\n3                   Bar  0.06\n4     Indian Restaurant  0.04\n5      Stationery Store  0.04\n6          Burger Joint  0.04\n7         Grocery Store  0.04\n8           Pizza Place  0.02\n9  Gym / Fitness Center  0.02\n\n\n----St James's----\n                  venue  freq\n0                 Hotel  0.12\n1           Coffee Shop  0.08\n2               Theater  0.08\n3        Sandwich Place  0.06\n4             Juice Bar  0.04\n5      Sushi Restaurant  0.04\n6  Gym / Fitness Center  0.02\n7    Falafel Restaurant  0.02\n8  Fast Food Restaurant  0.02\n9     French Restaurant  0.02\n\n\n----Westminster----\n                  venue  freq\n0                 Hotel  0.12\n1           Coffee Shop  0.08\n2               Theater  0.08\n3        Sandwich Place  0.06\n4             Juice Bar  0.04\n5      Sushi Restaurant  0.04\n6  Gym / Fitness Center  0.02\n7    Falafel Restaurant  0.02\n8  Fast Food Restaurant  0.02\n9     French Restaurant  0.02\n\n\n----Wimbledon----\n                  venue  freq\n0           Coffee Shop  0.07\n1                   Pub  0.06\n2      Sushi Restaurant  0.05\n3              Bus Stop  0.05\n4     Indian Restaurant  0.05\n5         Grocery Store  0.05\n6                   Bar  0.04\n7          Burger Joint  0.04\n8              Platform  0.04\n9  Fast Food Restaurant  0.02\n\n\n"
                }
            ], 
            "source": "num_top_venues = 10 # Top common venues needed\nfor hood in sw_grouped['Neighborhood']:\n    print(\"----\"+hood+\"----\")\n    temp = sw_grouped[sw_grouped['Neighborhood'] == hood].T.reset_index()\n    temp.columns = ['venue', 'freq']\n    temp = temp.iloc[1:]\n    temp['freq'] = temp['freq'].astype(float)\n    temp = temp.round({'freq': 2})\n    print(temp.sort_values('freq', ascending = False).reset_index(drop = True).head(num_top_venues))\n    print('\\n')"
        }, 
        {
            "source": "Creating new dataframe \nPutting the common venues into pandas dataframe, the following return_most_common_venuesis used to sort the venues in descending order.", 
            "cell_type": "markdown", 
            "metadata": {}
        }, 
        {
            "execution_count": 89, 
            "cell_type": "code", 
            "metadata": {}, 
            "outputs": [], 
            "source": "def return_most_common_venues(row, num_top_venues):\n    row_categories = row.iloc[1:]\n    row_categories_sorted = row_categories.sort_values(ascending = False)\n    \n    return row_categories_sorted.index.values[0:num_top_venues]"
        }, 
        {
            "source": "Then we create a new panda dataframe with 10 most common venues as shown below:", 
            "cell_type": "markdown", 
            "metadata": {}
        }, 
        {
            "execution_count": 90, 
            "cell_type": "code", 
            "metadata": {}, 
            "outputs": [
                {
                    "execution_count": 90, 
                    "metadata": {}, 
                    "data": {
                        "text/html": "<div>\n<style scoped>\n    .dataframe tbody tr th:only-of-type {\n        vertical-align: middle;\n    }\n\n    .dataframe tbody tr th {\n        vertical-align: top;\n    }\n\n    .dataframe thead th {\n        text-align: right;\n    }\n</style>\n<table border=\"1\" class=\"dataframe\">\n  <thead>\n    <tr style=\"text-align: right;\">\n      <th></th>\n      <th>Neighborhood</th>\n      <th>1st Most Common Venue</th>\n      <th>2nd Most Common Venue</th>\n      <th>3rd Most Common Venue</th>\n      <th>4th Most Common Venue</th>\n      <th>5th Most Common Venue</th>\n      <th>6th Most Common Venue</th>\n      <th>7th Most Common Venue</th>\n      <th>8th Most Common Venue</th>\n      <th>9th Most Common Venue</th>\n      <th>10th Most Common Venue</th>\n    </tr>\n  </thead>\n  <tbody>\n    <tr>\n      <th>0</th>\n      <td>Belgravia</td>\n      <td>Hotel</td>\n      <td>Theater</td>\n      <td>Coffee Shop</td>\n      <td>Sandwich Place</td>\n      <td>Juice Bar</td>\n      <td>Sushi Restaurant</td>\n      <td>Indian Restaurant</td>\n      <td>Movie Theater</td>\n      <td>Modern European Restaurant</td>\n      <td>Clothing Store</td>\n    </tr>\n    <tr>\n      <th>1</th>\n      <td>Colliers Wood</td>\n      <td>Pub</td>\n      <td>Coffee Shop</td>\n      <td>Sushi Restaurant</td>\n      <td>Bar</td>\n      <td>Indian Restaurant</td>\n      <td>Stationery Store</td>\n      <td>Burger Joint</td>\n      <td>Grocery Store</td>\n      <td>Movie Theater</td>\n      <td>Mexican Restaurant</td>\n    </tr>\n    <tr>\n      <th>2</th>\n      <td>Fulham</td>\n      <td>Caf\u00e9</td>\n      <td>Coffee Shop</td>\n      <td>Italian Restaurant</td>\n      <td>Pub</td>\n      <td>Yoga Studio</td>\n      <td>Grocery Store</td>\n      <td>Wine Shop</td>\n      <td>Park</td>\n      <td>French Restaurant</td>\n      <td>Climbing Gym</td>\n    </tr>\n    <tr>\n      <th>3</th>\n      <td>Knightsbridge</td>\n      <td>Hotel</td>\n      <td>Theater</td>\n      <td>Coffee Shop</td>\n      <td>Sandwich Place</td>\n      <td>Juice Bar</td>\n      <td>Sushi Restaurant</td>\n      <td>Indian Restaurant</td>\n      <td>Movie Theater</td>\n      <td>Modern European Restaurant</td>\n      <td>Clothing Store</td>\n    </tr>\n    <tr>\n      <th>4</th>\n      <td>Merton Park</td>\n      <td>Pub</td>\n      <td>Coffee Shop</td>\n      <td>Sushi Restaurant</td>\n      <td>Bar</td>\n      <td>Indian Restaurant</td>\n      <td>Stationery Store</td>\n      <td>Burger Joint</td>\n      <td>Grocery Store</td>\n      <td>Movie Theater</td>\n      <td>Mexican Restaurant</td>\n    </tr>\n  </tbody>\n</table>\n</div>", 
                        "text/plain": "    Neighborhood 1st Most Common Venue 2nd Most Common Venue  \\\n0      Belgravia                 Hotel               Theater   \n1  Colliers Wood                   Pub           Coffee Shop   \n2         Fulham                  Caf\u00e9           Coffee Shop   \n3  Knightsbridge                 Hotel               Theater   \n4    Merton Park                   Pub           Coffee Shop   \n\n  3rd Most Common Venue 4th Most Common Venue 5th Most Common Venue  \\\n0           Coffee Shop        Sandwich Place             Juice Bar   \n1      Sushi Restaurant                   Bar     Indian Restaurant   \n2    Italian Restaurant                   Pub           Yoga Studio   \n3           Coffee Shop        Sandwich Place             Juice Bar   \n4      Sushi Restaurant                   Bar     Indian Restaurant   \n\n  6th Most Common Venue 7th Most Common Venue 8th Most Common Venue  \\\n0      Sushi Restaurant     Indian Restaurant         Movie Theater   \n1      Stationery Store          Burger Joint         Grocery Store   \n2         Grocery Store             Wine Shop                  Park   \n3      Sushi Restaurant     Indian Restaurant         Movie Theater   \n4      Stationery Store          Burger Joint         Grocery Store   \n\n        9th Most Common Venue 10th Most Common Venue  \n0  Modern European Restaurant         Clothing Store  \n1               Movie Theater     Mexican Restaurant  \n2           French Restaurant           Climbing Gym  \n3  Modern European Restaurant         Clothing Store  \n4               Movie Theater     Mexican Restaurant  "
                    }, 
                    "output_type": "execute_result"
                }
            ], 
            "source": "num_top_venues = 10\nindicators = ['st', 'nd', 'rd']\n# create columns according to number of top venues\ncolumns = ['Neighborhood']\nfor ind in np.arange(num_top_venues):\n    try:\n        columns.append('{}{} Most Common Venue'.format(ind+1, indicators[ind]))\n    except:\n        columns.append('{}th Most Common Venue'.format(ind+1))\n# create a new dataframe\nneighbourhoods_venues_sorted = pd.DataFrame(columns=columns)\nneighbourhoods_venues_sorted['Neighborhood'] = sw_grouped['Neighborhood']\nfor ind in np.arange(sw_grouped.shape[0]):\n    neighbourhoods_venues_sorted.iloc[ind, 1:] = return_most_common_venues(sw_grouped.iloc[ind, :], num_top_venues)\nneighbourhoods_venues_sorted.head(5)"
        }, 
        {
            "source": "Clustering of Neighbourhoods\nWe create the grouped clustering for the neighbourhood as shown below:\n", 
            "cell_type": "markdown", 
            "metadata": {}
        }, 
        {
            "execution_count": 91, 
            "cell_type": "code", 
            "metadata": {}, 
            "outputs": [], 
            "source": "sw_grouped_clustering = sw_grouped.drop('Neighborhood', 1)\n"
        }, 
        {
            "source": "And then create clusters of the neighbourhood using the k-means to cluster the neighbourhood into 5 cluster", 
            "cell_type": "markdown", 
            "metadata": {}
        }, 
        {
            "execution_count": 92, 
            "cell_type": "code", 
            "metadata": {}, 
            "outputs": [
                {
                    "execution_count": 92, 
                    "metadata": {}, 
                    "data": {
                        "text/plain": "array([0, 1, 2, 0, 1, 0, 2, 0, 3, 2])"
                    }, 
                    "output_type": "execute_result"
                }
            ], 
            "source": "# set number of clusters\nkclusters = 5\n# run k-means clustering\nkmeans = KMeans(n_clusters = kclusters, random_state=0).fit(sw_grouped_clustering)\n# check cluster labels generated for each row in the dataframe\nkmeans.labels_[0:10]"
        }, 
        {
            "source": "Now creating a new dataframe that includes the clusters as well as the top 10 venues for each neighbourhoods.", 
            "cell_type": "markdown", 
            "metadata": {}
        }, 
        {
            "execution_count": 93, 
            "cell_type": "code", 
            "metadata": {}, 
            "outputs": [
                {
                    "execution_count": 93, 
                    "metadata": {}, 
                    "data": {
                        "text/html": "<div>\n<style scoped>\n    .dataframe tbody tr th:only-of-type {\n        vertical-align: middle;\n    }\n\n    .dataframe tbody tr th {\n        vertical-align: top;\n    }\n\n    .dataframe thead th {\n        text-align: right;\n    }\n</style>\n<table border=\"1\" class=\"dataframe\">\n  <thead>\n    <tr style=\"text-align: right;\">\n      <th></th>\n      <th>Location</th>\n      <th>Borough</th>\n      <th>Postcode</th>\n      <th>Latitude</th>\n      <th>Longitude</th>\n      <th>Cluster Labels</th>\n      <th>1st Most Common Venue</th>\n      <th>2nd Most Common Venue</th>\n      <th>3rd Most Common Venue</th>\n      <th>4th Most Common Venue</th>\n      <th>5th Most Common Venue</th>\n      <th>6th Most Common Venue</th>\n      <th>7th Most Common Venue</th>\n      <th>8th Most Common Venue</th>\n      <th>9th Most Common Venue</th>\n      <th>10th Most Common Venue</th>\n    </tr>\n  </thead>\n  <tbody>\n    <tr>\n      <th>0</th>\n      <td>Belgravia</td>\n      <td>Westminster</td>\n      <td>SW1</td>\n      <td>51.49713</td>\n      <td>-0.13829</td>\n      <td>0</td>\n      <td>Hotel</td>\n      <td>Theater</td>\n      <td>Coffee Shop</td>\n      <td>Sandwich Place</td>\n      <td>Juice Bar</td>\n      <td>Sushi Restaurant</td>\n      <td>Indian Restaurant</td>\n      <td>Movie Theater</td>\n      <td>Modern European Restaurant</td>\n      <td>Clothing Store</td>\n    </tr>\n    <tr>\n      <th>1</th>\n      <td>Colliers Wood</td>\n      <td>Merton</td>\n      <td>SW19</td>\n      <td>51.42170</td>\n      <td>-0.20796</td>\n      <td>1</td>\n      <td>Pub</td>\n      <td>Coffee Shop</td>\n      <td>Sushi Restaurant</td>\n      <td>Bar</td>\n      <td>Indian Restaurant</td>\n      <td>Stationery Store</td>\n      <td>Burger Joint</td>\n      <td>Grocery Store</td>\n      <td>Movie Theater</td>\n      <td>Mexican Restaurant</td>\n    </tr>\n    <tr>\n      <th>2</th>\n      <td>Fulham</td>\n      <td>Hammersmith and Fulham</td>\n      <td>SW6</td>\n      <td>51.47772</td>\n      <td>-0.20145</td>\n      <td>2</td>\n      <td>Caf\u00e9</td>\n      <td>Coffee Shop</td>\n      <td>Italian Restaurant</td>\n      <td>Pub</td>\n      <td>Yoga Studio</td>\n      <td>Grocery Store</td>\n      <td>Wine Shop</td>\n      <td>Park</td>\n      <td>French Restaurant</td>\n      <td>Climbing Gym</td>\n    </tr>\n    <tr>\n      <th>3</th>\n      <td>Knightsbridge</td>\n      <td>Westminster</td>\n      <td>SW1</td>\n      <td>51.49713</td>\n      <td>-0.13829</td>\n      <td>0</td>\n      <td>Hotel</td>\n      <td>Theater</td>\n      <td>Coffee Shop</td>\n      <td>Sandwich Place</td>\n      <td>Juice Bar</td>\n      <td>Sushi Restaurant</td>\n      <td>Indian Restaurant</td>\n      <td>Movie Theater</td>\n      <td>Modern European Restaurant</td>\n      <td>Clothing Store</td>\n    </tr>\n    <tr>\n      <th>4</th>\n      <td>Merton Park</td>\n      <td>Merton</td>\n      <td>SW19</td>\n      <td>51.42170</td>\n      <td>-0.20796</td>\n      <td>1</td>\n      <td>Pub</td>\n      <td>Coffee Shop</td>\n      <td>Sushi Restaurant</td>\n      <td>Bar</td>\n      <td>Indian Restaurant</td>\n      <td>Stationery Store</td>\n      <td>Burger Joint</td>\n      <td>Grocery Store</td>\n      <td>Movie Theater</td>\n      <td>Mexican Restaurant</td>\n    </tr>\n  </tbody>\n</table>\n</div>", 
                        "text/plain": "        Location                 Borough Postcode  Latitude  Longitude  \\\n0      Belgravia             Westminster      SW1  51.49713   -0.13829   \n1  Colliers Wood                  Merton     SW19  51.42170   -0.20796   \n2         Fulham  Hammersmith and Fulham      SW6  51.47772   -0.20145   \n3  Knightsbridge             Westminster      SW1  51.49713   -0.13829   \n4    Merton Park                  Merton     SW19  51.42170   -0.20796   \n\n   Cluster Labels 1st Most Common Venue 2nd Most Common Venue  \\\n0               0                 Hotel               Theater   \n1               1                   Pub           Coffee Shop   \n2               2                  Caf\u00e9           Coffee Shop   \n3               0                 Hotel               Theater   \n4               1                   Pub           Coffee Shop   \n\n  3rd Most Common Venue 4th Most Common Venue 5th Most Common Venue  \\\n0           Coffee Shop        Sandwich Place             Juice Bar   \n1      Sushi Restaurant                   Bar     Indian Restaurant   \n2    Italian Restaurant                   Pub           Yoga Studio   \n3           Coffee Shop        Sandwich Place             Juice Bar   \n4      Sushi Restaurant                   Bar     Indian Restaurant   \n\n  6th Most Common Venue 7th Most Common Venue 8th Most Common Venue  \\\n0      Sushi Restaurant     Indian Restaurant         Movie Theater   \n1      Stationery Store          Burger Joint         Grocery Store   \n2         Grocery Store             Wine Shop                  Park   \n3      Sushi Restaurant     Indian Restaurant         Movie Theater   \n4      Stationery Store          Burger Joint         Grocery Store   \n\n        9th Most Common Venue 10th Most Common Venue  \n0  Modern European Restaurant         Clothing Store  \n1               Movie Theater     Mexican Restaurant  \n2           French Restaurant           Climbing Gym  \n3  Modern European Restaurant         Clothing Store  \n4               Movie Theater     Mexican Restaurant  "
                    }, 
                    "output_type": "execute_result"
                }
            ], 
            "source": "# add clustering labels\nneighbourhoods_venues_sorted.insert(0, 'Cluster Labels', kmeans.labels_)\nsw_merged = sw_df\n# match/merge SE London data with latitude/longitude for each neighborhood\nsw_merged_latlong = sw_merged.join(neighbourhoods_venues_sorted.set_index('Neighborhood'), on = 'Location')\nsw_merged_latlong.head(5)"
        }, 
        {
            "source": "\n## 5. Results \nTo visualize the clusters, we have the following", 
            "cell_type": "markdown", 
            "metadata": {}
        }, 
        {
            "execution_count": 94, 
            "cell_type": "code", 
            "metadata": {}, 
            "outputs": [], 
            "source": "sw_clusters=sw_merged_latlong"
        }, 
        {
            "execution_count": 95, 
            "cell_type": "code", 
            "metadata": {}, 
            "outputs": [], 
            "source": "\n# create map\nmap_clusters = folium.Map(location=[latitude, longitude], zoom_start=11)\n# set color scheme for the clusters\nx = np.arange(kclusters)\nys = [i + x + (i*x)**2 for i in range(kclusters)]\ncolors_array = cm.rainbow(np.linspace(0, 1, len(ys)))\nrainbow = [colors.rgb2hex(i) for i in colors_array]"
        }, 
        {
            "execution_count": 96, 
            "cell_type": "code", 
            "metadata": {}, 
            "outputs": [], 
            "source": "# add markers to the map\nmarkers_colors = []\nfor lat, lon, poi, cluster in zip(sw_clusters['Latitude'], sw_clusters['Longitude'], sw_clusters['Location'], sw_clusters['Cluster Labels']):\n    label = folium.Popup(str(poi) + ' Cluster ' + str(cluster), parse_html=True)\n    folium.CircleMarker(\n        [lat, lon],\n        radius=20,\n        popup=label,\n        color=rainbow[cluster-1],\n        fill=True,\n        fill_color=rainbow[cluster-1],\n        fill_opacity=0.7).add_to(map_clusters)"
        }, 
        {
            "execution_count": 97, 
            "cell_type": "code", 
            "metadata": {}, 
            "outputs": [
                {
                    "output_type": "display_data", 
                    "data": {
                        "text/html": "<div style=\"width:100%;\"><div style=\"position:relative;width:100%;height:0;padding-bottom:60%;\"><iframe src=\"data:text/html;charset=utf-8;base64,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\" style=\"position:absolute;width:100%;height:100%;left:0;top:0;border:none !important;\" allowfullscreen webkitallowfullscreen mozallowfullscreen></iframe></div></div>", 
                        "text/plain": "<folium.folium.Map at 0x2203fbc1390>"
                    }, 
                    "metadata": {}
                }
            ], 
            "source": "display(map_clusters)"
        }, 
        {
            "source": "The individual clsuters dataframe can be obtained by using the following code (better to run each cluster individually:", 
            "cell_type": "markdown", 
            "metadata": {}
        }, 
        {
            "execution_count": 98, 
            "cell_type": "code", 
            "metadata": {}, 
            "outputs": [], 
            "source": "# Cluster 1\ncluster1=sw_clusters.loc[sw_clusters['Cluster Labels'] == 0, sw_clusters.columns[[1] + list(range(5, sw_clusters.shape[1]))]]\n"
        }, 
        {
            "execution_count": 99, 
            "cell_type": "code", 
            "metadata": {}, 
            "outputs": [], 
            "source": "# Cluster 2\ncluster2=sw_clusters.loc[sw_clusters['Cluster Labels'] == 1, sw_clusters.columns[[1] + list(range(5, sw_clusters.shape[1]))]]\n"
        }, 
        {
            "execution_count": 100, 
            "cell_type": "code", 
            "metadata": {}, 
            "outputs": [], 
            "source": "# Cluster 3\ncluster3=sw_clusters.loc[sw_clusters['Cluster Labels'] == 2, sw_clusters.columns[[1] + list(range(5, sw_clusters.shape[1]))]]"
        }, 
        {
            "execution_count": 101, 
            "cell_type": "code", 
            "metadata": {}, 
            "outputs": [], 
            "source": "# Cluster 4\ncluster4=sw_clusters.loc[sw_clusters['Cluster Labels'] == 3, sw_clusters.columns[[1] + list(range(5, sw_clusters.shape[1]))]]"
        }, 
        {
            "execution_count": 102, 
            "cell_type": "code", 
            "metadata": {}, 
            "outputs": [], 
            "source": "# Cluster 5\ncluster5=sw_clusters.loc[sw_clusters['Cluster Labels'] == 4, sw_clusters.columns[[1] + list(range(5, sw_clusters.shape[1]))]]"
        }, 
        {
            "execution_count": 103, 
            "cell_type": "code", 
            "metadata": {}, 
            "outputs": [
                {
                    "execution_count": 103, 
                    "metadata": {}, 
                    "data": {
                        "text/html": "<div>\n<style scoped>\n    .dataframe tbody tr th:only-of-type {\n        vertical-align: middle;\n    }\n\n    .dataframe tbody tr th {\n        vertical-align: top;\n    }\n\n    .dataframe thead th {\n        text-align: right;\n    }\n</style>\n<table border=\"1\" class=\"dataframe\">\n  <thead>\n    <tr style=\"text-align: right;\">\n      <th></th>\n      <th>Borough</th>\n      <th>Cluster Labels</th>\n      <th>1st Most Common Venue</th>\n      <th>2nd Most Common Venue</th>\n      <th>3rd Most Common Venue</th>\n      <th>4th Most Common Venue</th>\n      <th>5th Most Common Venue</th>\n      <th>6th Most Common Venue</th>\n      <th>7th Most Common Venue</th>\n      <th>8th Most Common Venue</th>\n      <th>9th Most Common Venue</th>\n      <th>10th Most Common Venue</th>\n    </tr>\n  </thead>\n  <tbody>\n    <tr>\n      <th>0</th>\n      <td>Westminster</td>\n      <td>0</td>\n      <td>Hotel</td>\n      <td>Theater</td>\n      <td>Coffee Shop</td>\n      <td>Sandwich Place</td>\n      <td>Juice Bar</td>\n      <td>Sushi Restaurant</td>\n      <td>Indian Restaurant</td>\n      <td>Movie Theater</td>\n      <td>Modern European Restaurant</td>\n      <td>Clothing Store</td>\n    </tr>\n    <tr>\n      <th>3</th>\n      <td>Westminster</td>\n      <td>0</td>\n      <td>Hotel</td>\n      <td>Theater</td>\n      <td>Coffee Shop</td>\n      <td>Sandwich Place</td>\n      <td>Juice Bar</td>\n      <td>Sushi Restaurant</td>\n      <td>Indian Restaurant</td>\n      <td>Movie Theater</td>\n      <td>Modern European Restaurant</td>\n      <td>Clothing Store</td>\n    </tr>\n    <tr>\n      <th>5</th>\n      <td>Westminster</td>\n      <td>0</td>\n      <td>Hotel</td>\n      <td>Theater</td>\n      <td>Coffee Shop</td>\n      <td>Sandwich Place</td>\n      <td>Juice Bar</td>\n      <td>Sushi Restaurant</td>\n      <td>Indian Restaurant</td>\n      <td>Movie Theater</td>\n      <td>Modern European Restaurant</td>\n      <td>Clothing Store</td>\n    </tr>\n    <tr>\n      <th>7</th>\n      <td>Westminster</td>\n      <td>0</td>\n      <td>Hotel</td>\n      <td>Theater</td>\n      <td>Coffee Shop</td>\n      <td>Sandwich Place</td>\n      <td>Juice Bar</td>\n      <td>Sushi Restaurant</td>\n      <td>Indian Restaurant</td>\n      <td>Movie Theater</td>\n      <td>Modern European Restaurant</td>\n      <td>Clothing Store</td>\n    </tr>\n    <tr>\n      <th>11</th>\n      <td>Westminster</td>\n      <td>0</td>\n      <td>Hotel</td>\n      <td>Theater</td>\n      <td>Coffee Shop</td>\n      <td>Sandwich Place</td>\n      <td>Juice Bar</td>\n      <td>Sushi Restaurant</td>\n      <td>Indian Restaurant</td>\n      <td>Movie Theater</td>\n      <td>Modern European Restaurant</td>\n      <td>Clothing Store</td>\n    </tr>\n    <tr>\n      <th>12</th>\n      <td>Westminster</td>\n      <td>0</td>\n      <td>Hotel</td>\n      <td>Theater</td>\n      <td>Coffee Shop</td>\n      <td>Sandwich Place</td>\n      <td>Juice Bar</td>\n      <td>Sushi Restaurant</td>\n      <td>Indian Restaurant</td>\n      <td>Movie Theater</td>\n      <td>Modern European Restaurant</td>\n      <td>Clothing Store</td>\n    </tr>\n  </tbody>\n</table>\n</div>", 
                        "text/plain": "        Borough  Cluster Labels 1st Most Common Venue 2nd Most Common Venue  \\\n0   Westminster               0                 Hotel               Theater   \n3   Westminster               0                 Hotel               Theater   \n5   Westminster               0                 Hotel               Theater   \n7   Westminster               0                 Hotel               Theater   \n11  Westminster               0                 Hotel               Theater   \n12  Westminster               0                 Hotel               Theater   \n\n   3rd Most Common Venue 4th Most Common Venue 5th Most Common Venue  \\\n0            Coffee Shop        Sandwich Place             Juice Bar   \n3            Coffee Shop        Sandwich Place             Juice Bar   \n5            Coffee Shop        Sandwich Place             Juice Bar   \n7            Coffee Shop        Sandwich Place             Juice Bar   \n11           Coffee Shop        Sandwich Place             Juice Bar   \n12           Coffee Shop        Sandwich Place             Juice Bar   \n\n   6th Most Common Venue 7th Most Common Venue 8th Most Common Venue  \\\n0       Sushi Restaurant     Indian Restaurant         Movie Theater   \n3       Sushi Restaurant     Indian Restaurant         Movie Theater   \n5       Sushi Restaurant     Indian Restaurant         Movie Theater   \n7       Sushi Restaurant     Indian Restaurant         Movie Theater   \n11      Sushi Restaurant     Indian Restaurant         Movie Theater   \n12      Sushi Restaurant     Indian Restaurant         Movie Theater   \n\n         9th Most Common Venue 10th Most Common Venue  \n0   Modern European Restaurant         Clothing Store  \n3   Modern European Restaurant         Clothing Store  \n5   Modern European Restaurant         Clothing Store  \n7   Modern European Restaurant         Clothing Store  \n11  Modern European Restaurant         Clothing Store  \n12  Modern European Restaurant         Clothing Store  "
                    }, 
                    "output_type": "execute_result"
                }
            ], 
            "source": "cluster1"
        }, 
        {
            "execution_count": 104, 
            "cell_type": "code", 
            "metadata": {}, 
            "outputs": [
                {
                    "execution_count": 104, 
                    "metadata": {}, 
                    "data": {
                        "text/html": "<div>\n<style scoped>\n    .dataframe tbody tr th:only-of-type {\n        vertical-align: middle;\n    }\n\n    .dataframe tbody tr th {\n        vertical-align: top;\n    }\n\n    .dataframe thead th {\n        text-align: right;\n    }\n</style>\n<table border=\"1\" class=\"dataframe\">\n  <thead>\n    <tr style=\"text-align: right;\">\n      <th></th>\n      <th>Borough</th>\n      <th>Cluster Labels</th>\n      <th>1st Most Common Venue</th>\n      <th>2nd Most Common Venue</th>\n      <th>3rd Most Common Venue</th>\n      <th>4th Most Common Venue</th>\n      <th>5th Most Common Venue</th>\n      <th>6th Most Common Venue</th>\n      <th>7th Most Common Venue</th>\n      <th>8th Most Common Venue</th>\n      <th>9th Most Common Venue</th>\n      <th>10th Most Common Venue</th>\n    </tr>\n  </thead>\n  <tbody>\n    <tr>\n      <th>1</th>\n      <td>Merton</td>\n      <td>1</td>\n      <td>Pub</td>\n      <td>Coffee Shop</td>\n      <td>Sushi Restaurant</td>\n      <td>Bar</td>\n      <td>Indian Restaurant</td>\n      <td>Stationery Store</td>\n      <td>Burger Joint</td>\n      <td>Grocery Store</td>\n      <td>Movie Theater</td>\n      <td>Mexican Restaurant</td>\n    </tr>\n    <tr>\n      <th>4</th>\n      <td>Merton</td>\n      <td>1</td>\n      <td>Pub</td>\n      <td>Coffee Shop</td>\n      <td>Sushi Restaurant</td>\n      <td>Bar</td>\n      <td>Indian Restaurant</td>\n      <td>Stationery Store</td>\n      <td>Burger Joint</td>\n      <td>Grocery Store</td>\n      <td>Movie Theater</td>\n      <td>Mexican Restaurant</td>\n    </tr>\n    <tr>\n      <th>10</th>\n      <td>Merton</td>\n      <td>1</td>\n      <td>Pub</td>\n      <td>Coffee Shop</td>\n      <td>Sushi Restaurant</td>\n      <td>Bar</td>\n      <td>Indian Restaurant</td>\n      <td>Stationery Store</td>\n      <td>Burger Joint</td>\n      <td>Grocery Store</td>\n      <td>Movie Theater</td>\n      <td>Mexican Restaurant</td>\n    </tr>\n  </tbody>\n</table>\n</div>", 
                        "text/plain": "   Borough  Cluster Labels 1st Most Common Venue 2nd Most Common Venue  \\\n1   Merton               1                   Pub           Coffee Shop   \n4   Merton               1                   Pub           Coffee Shop   \n10  Merton               1                   Pub           Coffee Shop   \n\n   3rd Most Common Venue 4th Most Common Venue 5th Most Common Venue  \\\n1       Sushi Restaurant                   Bar     Indian Restaurant   \n4       Sushi Restaurant                   Bar     Indian Restaurant   \n10      Sushi Restaurant                   Bar     Indian Restaurant   \n\n   6th Most Common Venue 7th Most Common Venue 8th Most Common Venue  \\\n1       Stationery Store          Burger Joint         Grocery Store   \n4       Stationery Store          Burger Joint         Grocery Store   \n10      Stationery Store          Burger Joint         Grocery Store   \n\n   9th Most Common Venue 10th Most Common Venue  \n1          Movie Theater     Mexican Restaurant  \n4          Movie Theater     Mexican Restaurant  \n10         Movie Theater     Mexican Restaurant  "
                    }, 
                    "output_type": "execute_result"
                }
            ], 
            "source": "cluster2"
        }, 
        {
            "execution_count": 105, 
            "cell_type": "code", 
            "metadata": {}, 
            "outputs": [
                {
                    "execution_count": 105, 
                    "metadata": {}, 
                    "data": {
                        "text/html": "<div>\n<style scoped>\n    .dataframe tbody tr th:only-of-type {\n        vertical-align: middle;\n    }\n\n    .dataframe tbody tr th {\n        vertical-align: top;\n    }\n\n    .dataframe thead th {\n        text-align: right;\n    }\n</style>\n<table border=\"1\" class=\"dataframe\">\n  <thead>\n    <tr style=\"text-align: right;\">\n      <th></th>\n      <th>Borough</th>\n      <th>Cluster Labels</th>\n      <th>1st Most Common Venue</th>\n      <th>2nd Most Common Venue</th>\n      <th>3rd Most Common Venue</th>\n      <th>4th Most Common Venue</th>\n      <th>5th Most Common Venue</th>\n      <th>6th Most Common Venue</th>\n      <th>7th Most Common Venue</th>\n      <th>8th Most Common Venue</th>\n      <th>9th Most Common Venue</th>\n      <th>10th Most Common Venue</th>\n    </tr>\n  </thead>\n  <tbody>\n    <tr>\n      <th>2</th>\n      <td>Hammersmith and Fulham</td>\n      <td>2</td>\n      <td>Caf\u00e9</td>\n      <td>Coffee Shop</td>\n      <td>Italian Restaurant</td>\n      <td>Pub</td>\n      <td>Yoga Studio</td>\n      <td>Grocery Store</td>\n      <td>Wine Shop</td>\n      <td>Park</td>\n      <td>French Restaurant</td>\n      <td>Climbing Gym</td>\n    </tr>\n    <tr>\n      <th>6</th>\n      <td>Hammersmith and Fulham</td>\n      <td>2</td>\n      <td>Caf\u00e9</td>\n      <td>Coffee Shop</td>\n      <td>Italian Restaurant</td>\n      <td>Pub</td>\n      <td>Yoga Studio</td>\n      <td>Grocery Store</td>\n      <td>Wine Shop</td>\n      <td>Park</td>\n      <td>French Restaurant</td>\n      <td>Climbing Gym</td>\n    </tr>\n    <tr>\n      <th>9</th>\n      <td>Hammersmith and Fulham</td>\n      <td>2</td>\n      <td>Caf\u00e9</td>\n      <td>Coffee Shop</td>\n      <td>Italian Restaurant</td>\n      <td>Pub</td>\n      <td>Yoga Studio</td>\n      <td>Grocery Store</td>\n      <td>Wine Shop</td>\n      <td>Park</td>\n      <td>French Restaurant</td>\n      <td>Climbing Gym</td>\n    </tr>\n  </tbody>\n</table>\n</div>", 
                        "text/plain": "                  Borough  Cluster Labels 1st Most Common Venue  \\\n2  Hammersmith and Fulham               2                  Caf\u00e9   \n6  Hammersmith and Fulham               2                  Caf\u00e9   \n9  Hammersmith and Fulham               2                  Caf\u00e9   \n\n  2nd Most Common Venue 3rd Most Common Venue 4th Most Common Venue  \\\n2           Coffee Shop    Italian Restaurant                   Pub   \n6           Coffee Shop    Italian Restaurant                   Pub   \n9           Coffee Shop    Italian Restaurant                   Pub   \n\n  5th Most Common Venue 6th Most Common Venue 7th Most Common Venue  \\\n2           Yoga Studio         Grocery Store             Wine Shop   \n6           Yoga Studio         Grocery Store             Wine Shop   \n9           Yoga Studio         Grocery Store             Wine Shop   \n\n  8th Most Common Venue 9th Most Common Venue 10th Most Common Venue  \n2                  Park     French Restaurant           Climbing Gym  \n6                  Park     French Restaurant           Climbing Gym  \n9                  Park     French Restaurant           Climbing Gym  "
                    }, 
                    "output_type": "execute_result"
                }
            ], 
            "source": "cluster3"
        }, 
        {
            "execution_count": 106, 
            "cell_type": "code", 
            "metadata": {}, 
            "outputs": [
                {
                    "execution_count": 106, 
                    "metadata": {}, 
                    "data": {
                        "text/html": "<div>\n<style scoped>\n    .dataframe tbody tr th:only-of-type {\n        vertical-align: middle;\n    }\n\n    .dataframe tbody tr th {\n        vertical-align: top;\n    }\n\n    .dataframe thead th {\n        text-align: right;\n    }\n</style>\n<table border=\"1\" class=\"dataframe\">\n  <thead>\n    <tr style=\"text-align: right;\">\n      <th></th>\n      <th>Borough</th>\n      <th>Cluster Labels</th>\n      <th>1st Most Common Venue</th>\n      <th>2nd Most Common Venue</th>\n      <th>3rd Most Common Venue</th>\n      <th>4th Most Common Venue</th>\n      <th>5th Most Common Venue</th>\n      <th>6th Most Common Venue</th>\n      <th>7th Most Common Venue</th>\n      <th>8th Most Common Venue</th>\n      <th>9th Most Common Venue</th>\n      <th>10th Most Common Venue</th>\n    </tr>\n  </thead>\n  <tbody>\n    <tr>\n      <th>8</th>\n      <td>Merton</td>\n      <td>3</td>\n      <td>Bus Stop</td>\n      <td>Platform</td>\n      <td>Grocery Store</td>\n      <td>Fast Food Restaurant</td>\n      <td>Coffee Shop</td>\n      <td>Pharmacy</td>\n      <td>Indian Restaurant</td>\n      <td>BBQ Joint</td>\n      <td>Trail</td>\n      <td>Bakery</td>\n    </tr>\n  </tbody>\n</table>\n</div>", 
                        "text/plain": "  Borough  Cluster Labels 1st Most Common Venue 2nd Most Common Venue  \\\n8  Merton               3              Bus Stop              Platform   \n\n  3rd Most Common Venue 4th Most Common Venue 5th Most Common Venue  \\\n8         Grocery Store  Fast Food Restaurant           Coffee Shop   \n\n  6th Most Common Venue 7th Most Common Venue 8th Most Common Venue  \\\n8              Pharmacy     Indian Restaurant             BBQ Joint   \n\n  9th Most Common Venue 10th Most Common Venue  \n8                 Trail                 Bakery  "
                    }, 
                    "output_type": "execute_result"
                }
            ], 
            "source": "cluster4"
        }, 
        {
            "execution_count": 107, 
            "cell_type": "code", 
            "metadata": {}, 
            "outputs": [
                {
                    "execution_count": 107, 
                    "metadata": {}, 
                    "data": {
                        "text/html": "<div>\n<style scoped>\n    .dataframe tbody tr th:only-of-type {\n        vertical-align: middle;\n    }\n\n    .dataframe tbody tr th {\n        vertical-align: top;\n    }\n\n    .dataframe thead th {\n        text-align: right;\n    }\n</style>\n<table border=\"1\" class=\"dataframe\">\n  <thead>\n    <tr style=\"text-align: right;\">\n      <th></th>\n      <th>Borough</th>\n      <th>Cluster Labels</th>\n      <th>1st Most Common Venue</th>\n      <th>2nd Most Common Venue</th>\n      <th>3rd Most Common Venue</th>\n      <th>4th Most Common Venue</th>\n      <th>5th Most Common Venue</th>\n      <th>6th Most Common Venue</th>\n      <th>7th Most Common Venue</th>\n      <th>8th Most Common Venue</th>\n      <th>9th Most Common Venue</th>\n      <th>10th Most Common Venue</th>\n    </tr>\n  </thead>\n  <tbody>\n    <tr>\n      <th>13</th>\n      <td>Merton</td>\n      <td>4</td>\n      <td>Coffee Shop</td>\n      <td>Pub</td>\n      <td>Grocery Store</td>\n      <td>Bus Stop</td>\n      <td>Sushi Restaurant</td>\n      <td>Indian Restaurant</td>\n      <td>Bar</td>\n      <td>Burger Joint</td>\n      <td>Platform</td>\n      <td>Gym / Fitness Center</td>\n    </tr>\n    <tr>\n      <th>14</th>\n      <td>Merton</td>\n      <td>4</td>\n      <td>Coffee Shop</td>\n      <td>Pub</td>\n      <td>Grocery Store</td>\n      <td>Bus Stop</td>\n      <td>Sushi Restaurant</td>\n      <td>Indian Restaurant</td>\n      <td>Bar</td>\n      <td>Burger Joint</td>\n      <td>Platform</td>\n      <td>Gym / Fitness Center</td>\n    </tr>\n  </tbody>\n</table>\n</div>", 
                        "text/plain": "   Borough  Cluster Labels 1st Most Common Venue 2nd Most Common Venue  \\\n13  Merton               4           Coffee Shop                   Pub   \n14  Merton               4           Coffee Shop                   Pub   \n\n   3rd Most Common Venue 4th Most Common Venue 5th Most Common Venue  \\\n13         Grocery Store              Bus Stop      Sushi Restaurant   \n14         Grocery Store              Bus Stop      Sushi Restaurant   \n\n   6th Most Common Venue 7th Most Common Venue 8th Most Common Venue  \\\n13     Indian Restaurant                   Bar          Burger Joint   \n14     Indian Restaurant                   Bar          Burger Joint   \n\n   9th Most Common Venue 10th Most Common Venue  \n13              Platform   Gym / Fitness Center  \n14              Platform   Gym / Fitness Center  "
                    }, 
                    "output_type": "execute_result"
                }
            ], 
            "source": "cluster5"
        }, 
        {
            "source": "# Conclusion", 
            "cell_type": "markdown", 
            "metadata": {}
        }, 
        {
            "source": "According to the latest Land Registry figures Westminster is one the most expensive boroughs to buy a property to live in London. Slightly less than a million \u2013 \u00a3990,896, is the average cost of property to buy in City of Westminster. However, considering having a view on London Eye or Big Ben while eating breakfast, houseprices in this area sound to be reasonable.  The Hammersmith and Fulham  has  avg. \u00a3784,613 cost of property.\n\nSo the conclusion should be invest in  one of the common venue : \n## Hammersmith and Fulham\n\n\n1. Caf\u00e9\n2. Coffee Shop\n3. Italian Restaurant\n4. Pub\n5. Yoga Studio\n6. Grocery Store\n7. Wine Shop\n8. Park\n9. French Restaurant\n10. Climbing Gy\n             \n\n\n## Westminster\n\n1. Hotel\n2. Theater\n3. Coffee Sho\n4. Sandwich Place\n5. Juice Bar\n6. Sushi Restaurant\n7. Indian Restaurant\n8. Movie Theater\n9. Modern European Restaurant\n10. Clothing Store\n\n## Merton\n\n1. Pub\n2. Coffee Shop\n3. Sushi Restaurant\n4. Bar\n5. Indian Restaurant\n6. Stationery Store\n7. Burger Joint\n8. Grocery Store\n9. Movie Theater\n10. Mexican Restauran\n\nwhich is based on cluster 3.", 
            "cell_type": "markdown", 
            "metadata": {}
        }, 
        {
            "execution_count": null, 
            "cell_type": "code", 
            "metadata": {}, 
            "outputs": [], 
            "source": ""
        }
    ], 
    "metadata": {
        "kernelspec": {
            "display_name": "Python 3.6", 
            "name": "python3", 
            "language": "python"
        }, 
        "language_info": {
            "mimetype": "text/x-python", 
            "nbconvert_exporter": "python", 
            "version": "3.6.8", 
            "name": "python", 
            "file_extension": ".py", 
            "pygments_lexer": "ipython3", 
            "codemirror_mode": {
                "version": 3, 
                "name": "ipython"
            }
        }
    }, 
    "nbformat": 4
}